{
 "cells": [
  {
   "cell_type": "code",
   "execution_count": 1,
   "id": "0a8e71e8-e02d-4d57-8ca5-fea86cb63930",
   "metadata": {},
   "outputs": [],
   "source": [
    "import pyspark\n",
    "from pyspark.sql import SparkSession\n",
    "from pyspark.sql.types import (\n",
    "    StructType, \n",
    "    StructField, \n",
    "    IntegerType, \n",
    "    StringType, \n",
    "    ArrayType, \n",
    "    MapType, \n",
    "    FloatType\n",
    ")\n",
    "import os\n",
    "from dotenv import load_dotenv, find_dotenv\n",
    "\n",
    "_ = load_dotenv(find_dotenv())"
   ]
  },
  {
   "cell_type": "code",
   "execution_count": 2,
   "id": "e357a710-7238-4d2e-aaf5-c7de31e8aee8",
   "metadata": {},
   "outputs": [],
   "source": [
    "CATALOG_URI = \"http://nessie:19120/api/v1\"                  # Nessie Server URI\n",
    "WAREHOUSE = \"s3://warehouse/\"                               # Minio Address to Write to\n",
    "STORAGE_URI = \"http://172.18.0.3:9000\"      # Minio IP address from docker inspect"
   ]
  },
  {
   "cell_type": "code",
   "execution_count": 3,
   "id": "3538d194-a71c-4e35-9150-0a649a8e06b0",
   "metadata": {},
   "outputs": [],
   "source": [
    "conf = (\n",
    "    pyspark.SparkConf()\n",
    "        .setAppName('sales_data_app')\n",
    "        # Include necessary packages\n",
    "        .set('spark.jars.packages', 'org.postgresql:postgresql:42.7.3,org.apache.iceberg:iceberg-spark-runtime-3.5_2.12:1.5.0,org.projectnessie.nessie-integrations:nessie-spark-extensions-3.5_2.12:0.77.1,software.amazon.awssdk:bundle:2.24.8,software.amazon.awssdk:url-connection-client:2.24.8')\n",
    "        # Enable Iceberg and Nessie extensions\n",
    "        .set('spark.sql.extensions', 'org.apache.iceberg.spark.extensions.IcebergSparkSessionExtensions,org.projectnessie.spark.extensions.NessieSparkSessionExtensions')\n",
    "        # Configure Nessie catalog\n",
    "        .set('spark.sql.catalog.nessie', 'org.apache.iceberg.spark.SparkCatalog')\n",
    "        .set('spark.sql.catalog.nessie.uri', CATALOG_URI)\n",
    "        .set('spark.sql.catalog.nessie.ref', 'main')\n",
    "        .set('spark.sql.catalog.nessie.authentication.type', 'NONE')\n",
    "        .set('spark.sql.catalog.nessie.catalog-impl', 'org.apache.iceberg.nessie.NessieCatalog')\n",
    "        # Set Minio as the S3 endpoint for Iceberg storage\n",
    "        .set('spark.sql.catalog.nessie.s3.endpoint', STORAGE_URI)\n",
    "        .set('spark.sql.catalog.nessie.warehouse', WAREHOUSE)\n",
    "        .set('spark.sql.catalog.nessie.io-impl', 'org.apache.iceberg.aws.s3.S3FileIO')\n",
    ")"
   ]
  },
  {
   "cell_type": "code",
   "execution_count": 4,
   "id": "eabaf061-7562-4552-b703-50c9daeb5d56",
   "metadata": {},
   "outputs": [
    {
     "name": "stdout",
     "output_type": "stream",
     "text": [
      ":: loading settings :: url = jar:file:/opt/spark/jars/ivy-2.5.1.jar!/org/apache/ivy/core/settings/ivysettings.xml\n"
     ]
    },
    {
     "name": "stderr",
     "output_type": "stream",
     "text": [
      "Ivy Default Cache set to: /root/.ivy2/cache\n",
      "The jars for the packages stored in: /root/.ivy2/jars\n",
      "org.postgresql#postgresql added as a dependency\n",
      "org.apache.iceberg#iceberg-spark-runtime-3.5_2.12 added as a dependency\n",
      "org.projectnessie.nessie-integrations#nessie-spark-extensions-3.5_2.12 added as a dependency\n",
      "software.amazon.awssdk#bundle added as a dependency\n",
      "software.amazon.awssdk#url-connection-client added as a dependency\n",
      ":: resolving dependencies :: org.apache.spark#spark-submit-parent-ee375b02-c27e-4a09-899d-f0ec82e3c9a7;1.0\n",
      "\tconfs: [default]\n",
      "\tfound org.postgresql#postgresql;42.7.3 in central\n",
      "\tfound org.checkerframework#checker-qual;3.42.0 in central\n",
      "\tfound org.apache.iceberg#iceberg-spark-runtime-3.5_2.12;1.5.0 in central\n",
      "\tfound org.projectnessie.nessie-integrations#nessie-spark-extensions-3.5_2.12;0.77.1 in central\n",
      "\tfound software.amazon.awssdk#bundle;2.24.8 in central\n",
      "\tfound software.amazon.awssdk#url-connection-client;2.24.8 in central\n",
      "\tfound software.amazon.awssdk#utils;2.24.8 in central\n",
      "\tfound org.reactivestreams#reactive-streams;1.0.4 in central\n",
      "\tfound software.amazon.awssdk#annotations;2.24.8 in central\n",
      "\tfound org.slf4j#slf4j-api;1.7.30 in central\n",
      "\tfound software.amazon.awssdk#http-client-spi;2.24.8 in central\n",
      "\tfound software.amazon.awssdk#metrics-spi;2.24.8 in central\n",
      "downloading https://repo1.maven.org/maven2/org/postgresql/postgresql/42.7.3/postgresql-42.7.3.jar ...\n",
      "\t[SUCCESSFUL ] org.postgresql#postgresql;42.7.3!postgresql.jar (1003ms)\n",
      "downloading https://repo1.maven.org/maven2/org/apache/iceberg/iceberg-spark-runtime-3.5_2.12/1.5.0/iceberg-spark-runtime-3.5_2.12-1.5.0.jar ...\n",
      "\t[SUCCESSFUL ] org.apache.iceberg#iceberg-spark-runtime-3.5_2.12;1.5.0!iceberg-spark-runtime-3.5_2.12.jar (2481ms)\n",
      "downloading https://repo1.maven.org/maven2/org/projectnessie/nessie-integrations/nessie-spark-extensions-3.5_2.12/0.77.1/nessie-spark-extensions-3.5_2.12-0.77.1.jar ...\n",
      "\t[SUCCESSFUL ] org.projectnessie.nessie-integrations#nessie-spark-extensions-3.5_2.12;0.77.1!nessie-spark-extensions-3.5_2.12.jar (419ms)\n",
      "downloading https://repo1.maven.org/maven2/software/amazon/awssdk/bundle/2.24.8/bundle-2.24.8.jar ...\n",
      "\t[SUCCESSFUL ] software.amazon.awssdk#bundle;2.24.8!bundle.jar (25885ms)\n",
      "downloading https://repo1.maven.org/maven2/software/amazon/awssdk/url-connection-client/2.24.8/url-connection-client-2.24.8.jar ...\n",
      "\t[SUCCESSFUL ] software.amazon.awssdk#url-connection-client;2.24.8!url-connection-client.jar (403ms)\n",
      "downloading https://repo1.maven.org/maven2/org/checkerframework/checker-qual/3.42.0/checker-qual-3.42.0.jar ...\n",
      "\t[SUCCESSFUL ] org.checkerframework#checker-qual;3.42.0!checker-qual.jar (393ms)\n",
      "downloading https://repo1.maven.org/maven2/software/amazon/awssdk/utils/2.24.8/utils-2.24.8.jar ...\n",
      "\t[SUCCESSFUL ] software.amazon.awssdk#utils;2.24.8!utils.jar (2553ms)\n",
      "downloading https://repo1.maven.org/maven2/software/amazon/awssdk/annotations/2.24.8/annotations-2.24.8.jar ...\n",
      "\t[SUCCESSFUL ] software.amazon.awssdk#annotations;2.24.8!annotations.jar (387ms)\n",
      "downloading https://repo1.maven.org/maven2/software/amazon/awssdk/http-client-spi/2.24.8/http-client-spi-2.24.8.jar ...\n",
      "\t[SUCCESSFUL ] software.amazon.awssdk#http-client-spi;2.24.8!http-client-spi.jar (377ms)\n",
      "downloading https://repo1.maven.org/maven2/org/reactivestreams/reactive-streams/1.0.4/reactive-streams-1.0.4.jar ...\n",
      "\t[SUCCESSFUL ] org.reactivestreams#reactive-streams;1.0.4!reactive-streams.jar (386ms)\n",
      "downloading https://repo1.maven.org/maven2/org/slf4j/slf4j-api/1.7.30/slf4j-api-1.7.30.jar ...\n",
      "\t[SUCCESSFUL ] org.slf4j#slf4j-api;1.7.30!slf4j-api.jar (376ms)\n",
      "downloading https://repo1.maven.org/maven2/software/amazon/awssdk/metrics-spi/2.24.8/metrics-spi-2.24.8.jar ...\n",
      "\t[SUCCESSFUL ] software.amazon.awssdk#metrics-spi;2.24.8!metrics-spi.jar (386ms)\n",
      ":: resolution report :: resolve 14974ms :: artifacts dl 35096ms\n",
      "\t:: modules in use:\n",
      "\torg.apache.iceberg#iceberg-spark-runtime-3.5_2.12;1.5.0 from central in [default]\n",
      "\torg.checkerframework#checker-qual;3.42.0 from central in [default]\n",
      "\torg.postgresql#postgresql;42.7.3 from central in [default]\n",
      "\torg.projectnessie.nessie-integrations#nessie-spark-extensions-3.5_2.12;0.77.1 from central in [default]\n",
      "\torg.reactivestreams#reactive-streams;1.0.4 from central in [default]\n",
      "\torg.slf4j#slf4j-api;1.7.30 from central in [default]\n",
      "\tsoftware.amazon.awssdk#annotations;2.24.8 from central in [default]\n",
      "\tsoftware.amazon.awssdk#bundle;2.24.8 from central in [default]\n",
      "\tsoftware.amazon.awssdk#http-client-spi;2.24.8 from central in [default]\n",
      "\tsoftware.amazon.awssdk#metrics-spi;2.24.8 from central in [default]\n",
      "\tsoftware.amazon.awssdk#url-connection-client;2.24.8 from central in [default]\n",
      "\tsoftware.amazon.awssdk#utils;2.24.8 from central in [default]\n",
      "\t---------------------------------------------------------------------\n",
      "\t|                  |            modules            ||   artifacts   |\n",
      "\t|       conf       | number| search|dwnlded|evicted|| number|dwnlded|\n",
      "\t---------------------------------------------------------------------\n",
      "\t|      default     |   12  |   12  |   12  |   0   ||   12  |   12  |\n",
      "\t---------------------------------------------------------------------\n",
      ":: retrieving :: org.apache.spark#spark-submit-parent-ee375b02-c27e-4a09-899d-f0ec82e3c9a7\n",
      "\tconfs: [default]\n",
      "\t12 artifacts copied, 0 already retrieved (589451kB/158ms)\n",
      "25/06/28 15:48:57 WARN NativeCodeLoader: Unable to load native-hadoop library for your platform... using builtin-java classes where applicable\n",
      "Setting default log level to \"WARN\".\n",
      "To adjust logging level use sc.setLogLevel(newLevel). For SparkR, use setLogLevel(newLevel).\n"
     ]
    },
    {
     "name": "stdout",
     "output_type": "stream",
     "text": [
      "Spark Session Started\n"
     ]
    }
   ],
   "source": [
    "spark = SparkSession.builder.config(conf=conf).getOrCreate()\n",
    "print(\"Spark Session Started\")"
   ]
  },
  {
   "cell_type": "code",
   "execution_count": 5,
   "id": "c13f2237-413a-4fe5-b7f6-dc4074d66904",
   "metadata": {},
   "outputs": [
    {
     "data": {
      "application/vnd.jupyter.widget-view+json": {
       "model_id": "ca704509d4f6427ba223e7dd92560a5d",
       "version_major": 2,
       "version_minor": 0
      },
      "text/plain": [
       "Loading files:   0%|          | 0/1 [00:00<?, ?it/s]"
      ]
     },
     "metadata": {},
     "output_type": "display_data"
    }
   ],
   "source": [
    "from llama_index.core import SimpleDirectoryReader\n",
    "\n",
    "# Notice that the folder path is the folder path within the Docker container.\n",
    "documents = SimpleDirectoryReader(\"/workspace/data\").load_data(show_progress=True)"
   ]
  },
  {
   "cell_type": "code",
   "execution_count": 6,
   "id": "5eec63ba-474a-4952-aa0c-f75dbe633e65",
   "metadata": {},
   "outputs": [],
   "source": [
    "from llama_index.core.node_parser import SentenceSplitter\n",
    "\n",
    "parser = SentenceSplitter.from_defaults()\n",
    "nodes = parser.get_nodes_from_documents(documents)"
   ]
  },
  {
   "cell_type": "code",
   "execution_count": 7,
   "id": "ce834718-4581-4ce0-879c-611ccb397b5d",
   "metadata": {},
   "outputs": [],
   "source": [
    "serialized = [node.model_dump() for node in nodes]"
   ]
  },
  {
   "cell_type": "code",
   "execution_count": 8,
   "id": "6c5301fc-eb4b-499f-9a62-c36aa3530b46",
   "metadata": {},
   "outputs": [
    {
     "data": {
      "text/html": [
       "<div>\n",
       "<style scoped>\n",
       "    .dataframe tbody tr th:only-of-type {\n",
       "        vertical-align: middle;\n",
       "    }\n",
       "\n",
       "    .dataframe tbody tr th {\n",
       "        vertical-align: top;\n",
       "    }\n",
       "\n",
       "    .dataframe thead th {\n",
       "        text-align: right;\n",
       "    }\n",
       "</style>\n",
       "<table border=\"1\" class=\"dataframe\">\n",
       "  <thead>\n",
       "    <tr style=\"text-align: right;\">\n",
       "      <th></th>\n",
       "      <th>id_</th>\n",
       "      <th>embedding</th>\n",
       "      <th>metadata</th>\n",
       "      <th>excluded_embed_metadata_keys</th>\n",
       "      <th>excluded_llm_metadata_keys</th>\n",
       "      <th>relationships</th>\n",
       "      <th>metadata_template</th>\n",
       "      <th>metadata_separator</th>\n",
       "      <th>text</th>\n",
       "      <th>mimetype</th>\n",
       "      <th>start_char_idx</th>\n",
       "      <th>end_char_idx</th>\n",
       "      <th>metadata_seperator</th>\n",
       "      <th>text_template</th>\n",
       "      <th>class_name</th>\n",
       "    </tr>\n",
       "  </thead>\n",
       "  <tbody>\n",
       "    <tr>\n",
       "      <th>0</th>\n",
       "      <td>1deb95c5-15fb-4660-baa3-e2e19da65bb4</td>\n",
       "      <td>None</td>\n",
       "      <td>{'file_path': '/workspace/data/paul_graham_ess...</td>\n",
       "      <td>[file_name, file_type, file_size, creation_dat...</td>\n",
       "      <td>[file_name, file_type, file_size, creation_dat...</td>\n",
       "      <td>{'1': {'node_id': 'fd194d2b-5add-4bcf-a1fc-0c3...</td>\n",
       "      <td>{key}: {value}</td>\n",
       "      <td>\\n</td>\n",
       "      <td>What I Worked On\\n\\nFebruary 2021\\n\\nBefore co...</td>\n",
       "      <td>text/plain</td>\n",
       "      <td>2</td>\n",
       "      <td>4320</td>\n",
       "      <td>\\n</td>\n",
       "      <td>{metadata_str}\\n\\n{content}</td>\n",
       "      <td>TextNode</td>\n",
       "    </tr>\n",
       "    <tr>\n",
       "      <th>1</th>\n",
       "      <td>f83cad5a-76b3-4b71-90dd-412a7ca16b53</td>\n",
       "      <td>None</td>\n",
       "      <td>{'file_path': '/workspace/data/paul_graham_ess...</td>\n",
       "      <td>[file_name, file_type, file_size, creation_dat...</td>\n",
       "      <td>[file_name, file_type, file_size, creation_dat...</td>\n",
       "      <td>{'1': {'node_id': 'fd194d2b-5add-4bcf-a1fc-0c3...</td>\n",
       "      <td>{key}: {value}</td>\n",
       "      <td>\\n</td>\n",
       "      <td>I couldn't have put this into words when I was...</td>\n",
       "      <td>text/plain</td>\n",
       "      <td>3570</td>\n",
       "      <td>7959</td>\n",
       "      <td>\\n</td>\n",
       "      <td>{metadata_str}\\n\\n{content}</td>\n",
       "      <td>TextNode</td>\n",
       "    </tr>\n",
       "    <tr>\n",
       "      <th>2</th>\n",
       "      <td>1d3300e0-921f-4ac4-a87f-9185bbe46992</td>\n",
       "      <td>None</td>\n",
       "      <td>{'file_path': '/workspace/data/paul_graham_ess...</td>\n",
       "      <td>[file_name, file_type, file_size, creation_dat...</td>\n",
       "      <td>[file_name, file_type, file_size, creation_dat...</td>\n",
       "      <td>{'1': {'node_id': 'fd194d2b-5add-4bcf-a1fc-0c3...</td>\n",
       "      <td>{key}: {value}</td>\n",
       "      <td>\\n</td>\n",
       "      <td>So I looked around to see what I could salvage...</td>\n",
       "      <td>text/plain</td>\n",
       "      <td>7166</td>\n",
       "      <td>11549</td>\n",
       "      <td>\\n</td>\n",
       "      <td>{metadata_str}\\n\\n{content}</td>\n",
       "      <td>TextNode</td>\n",
       "    </tr>\n",
       "    <tr>\n",
       "      <th>3</th>\n",
       "      <td>507abd79-1cda-4c11-ace2-8a5b439dd3cb</td>\n",
       "      <td>None</td>\n",
       "      <td>{'file_path': '/workspace/data/paul_graham_ess...</td>\n",
       "      <td>[file_name, file_type, file_size, creation_dat...</td>\n",
       "      <td>[file_name, file_type, file_size, creation_dat...</td>\n",
       "      <td>{'1': {'node_id': 'fd194d2b-5add-4bcf-a1fc-0c3...</td>\n",
       "      <td>{key}: {value}</td>\n",
       "      <td>\\n</td>\n",
       "      <td>I didn't want to drop out of grad school, but ...</td>\n",
       "      <td>text/plain</td>\n",
       "      <td>10764</td>\n",
       "      <td>15165</td>\n",
       "      <td>\\n</td>\n",
       "      <td>{metadata_str}\\n\\n{content}</td>\n",
       "      <td>TextNode</td>\n",
       "    </tr>\n",
       "    <tr>\n",
       "      <th>4</th>\n",
       "      <td>999e4414-ba6e-428c-991f-faf82c30cac1</td>\n",
       "      <td>None</td>\n",
       "      <td>{'file_path': '/workspace/data/paul_graham_ess...</td>\n",
       "      <td>[file_name, file_type, file_size, creation_dat...</td>\n",
       "      <td>[file_name, file_type, file_size, creation_dat...</td>\n",
       "      <td>{'1': {'node_id': 'fd194d2b-5add-4bcf-a1fc-0c3...</td>\n",
       "      <td>{key}: {value}</td>\n",
       "      <td>\\n</td>\n",
       "      <td>We actually had one of those little stoves, fe...</td>\n",
       "      <td>text/plain</td>\n",
       "      <td>14282</td>\n",
       "      <td>18597</td>\n",
       "      <td>\\n</td>\n",
       "      <td>{metadata_str}\\n\\n{content}</td>\n",
       "      <td>TextNode</td>\n",
       "    </tr>\n",
       "  </tbody>\n",
       "</table>\n",
       "</div>"
      ],
      "text/plain": [
       "                                    id_ embedding  \\\n",
       "0  1deb95c5-15fb-4660-baa3-e2e19da65bb4      None   \n",
       "1  f83cad5a-76b3-4b71-90dd-412a7ca16b53      None   \n",
       "2  1d3300e0-921f-4ac4-a87f-9185bbe46992      None   \n",
       "3  507abd79-1cda-4c11-ace2-8a5b439dd3cb      None   \n",
       "4  999e4414-ba6e-428c-991f-faf82c30cac1      None   \n",
       "\n",
       "                                            metadata  \\\n",
       "0  {'file_path': '/workspace/data/paul_graham_ess...   \n",
       "1  {'file_path': '/workspace/data/paul_graham_ess...   \n",
       "2  {'file_path': '/workspace/data/paul_graham_ess...   \n",
       "3  {'file_path': '/workspace/data/paul_graham_ess...   \n",
       "4  {'file_path': '/workspace/data/paul_graham_ess...   \n",
       "\n",
       "                        excluded_embed_metadata_keys  \\\n",
       "0  [file_name, file_type, file_size, creation_dat...   \n",
       "1  [file_name, file_type, file_size, creation_dat...   \n",
       "2  [file_name, file_type, file_size, creation_dat...   \n",
       "3  [file_name, file_type, file_size, creation_dat...   \n",
       "4  [file_name, file_type, file_size, creation_dat...   \n",
       "\n",
       "                          excluded_llm_metadata_keys  \\\n",
       "0  [file_name, file_type, file_size, creation_dat...   \n",
       "1  [file_name, file_type, file_size, creation_dat...   \n",
       "2  [file_name, file_type, file_size, creation_dat...   \n",
       "3  [file_name, file_type, file_size, creation_dat...   \n",
       "4  [file_name, file_type, file_size, creation_dat...   \n",
       "\n",
       "                                       relationships metadata_template  \\\n",
       "0  {'1': {'node_id': 'fd194d2b-5add-4bcf-a1fc-0c3...    {key}: {value}   \n",
       "1  {'1': {'node_id': 'fd194d2b-5add-4bcf-a1fc-0c3...    {key}: {value}   \n",
       "2  {'1': {'node_id': 'fd194d2b-5add-4bcf-a1fc-0c3...    {key}: {value}   \n",
       "3  {'1': {'node_id': 'fd194d2b-5add-4bcf-a1fc-0c3...    {key}: {value}   \n",
       "4  {'1': {'node_id': 'fd194d2b-5add-4bcf-a1fc-0c3...    {key}: {value}   \n",
       "\n",
       "  metadata_separator                                               text  \\\n",
       "0                 \\n  What I Worked On\\n\\nFebruary 2021\\n\\nBefore co...   \n",
       "1                 \\n  I couldn't have put this into words when I was...   \n",
       "2                 \\n  So I looked around to see what I could salvage...   \n",
       "3                 \\n  I didn't want to drop out of grad school, but ...   \n",
       "4                 \\n  We actually had one of those little stoves, fe...   \n",
       "\n",
       "     mimetype  start_char_idx  end_char_idx metadata_seperator  \\\n",
       "0  text/plain               2          4320                 \\n   \n",
       "1  text/plain            3570          7959                 \\n   \n",
       "2  text/plain            7166         11549                 \\n   \n",
       "3  text/plain           10764         15165                 \\n   \n",
       "4  text/plain           14282         18597                 \\n   \n",
       "\n",
       "                 text_template class_name  \n",
       "0  {metadata_str}\\n\\n{content}   TextNode  \n",
       "1  {metadata_str}\\n\\n{content}   TextNode  \n",
       "2  {metadata_str}\\n\\n{content}   TextNode  \n",
       "3  {metadata_str}\\n\\n{content}   TextNode  \n",
       "4  {metadata_str}\\n\\n{content}   TextNode  "
      ]
     },
     "execution_count": 8,
     "metadata": {},
     "output_type": "execute_result"
    }
   ],
   "source": [
    "import pandas as pd\n",
    "\n",
    "df = pd.DataFrame(serialized)\n",
    "df.head()"
   ]
  },
  {
   "cell_type": "code",
   "execution_count": 9,
   "id": "007b11b3-f2aa-46de-a326-3c55c81b9104",
   "metadata": {},
   "outputs": [],
   "source": [
    "schema = StructType([\n",
    "    StructField(\"id_\", StringType(), True),\n",
    "    StructField(\"embedding\", ArrayType(FloatType(), False), True),\n",
    "    StructField(\"excluded_embed_metadata_keys\", ArrayType(StringType(), True), True),\n",
    "    StructField(\"excluded_llm_metadata_keys\", ArrayType(StringType(), True), True),\n",
    "    StructField(\"relationships\", MapType(StringType(), StringType()), True),\n",
    "    StructField(\"metadata_template\", StringType(), True),\n",
    "    StructField(\"metadata_separator\", StringType(), True),\n",
    "    StructField(\"text\", StringType(), False),\n",
    "    StructField(\"minetype\", StringType(), True),\n",
    "    StructField(\"start_char_idx\", IntegerType(), False),\n",
    "    StructField(\"end_char_idx\", IntegerType(), False),\n",
    "    StructField(\"metadata_seperator\", StringType(), True),\n",
    "    StructField(\"text_template\", StringType(), True),\n",
    "    StructField(\"class_name\", StringType(), True),\n",
    "])"
   ]
  },
  {
   "cell_type": "code",
   "execution_count": 10,
   "id": "e5094185-59c4-4b22-a97c-b44b6b5abbdf",
   "metadata": {},
   "outputs": [],
   "source": [
    "spark_df = spark.createDataFrame(serialized, schema)"
   ]
  },
  {
   "cell_type": "code",
   "execution_count": 11,
   "id": "309664ed-8399-43f9-973e-79569a85c58e",
   "metadata": {},
   "outputs": [
    {
     "name": "stderr",
     "output_type": "stream",
     "text": [
      "                                                                                \r"
     ]
    },
    {
     "name": "stdout",
     "output_type": "stream",
     "text": [
      "+--------------------+---------+----------------------------+--------------------------+--------------------+-----------------+------------------+--------------------+--------+--------------+------------+------------------+--------------------+----------+\n",
      "|                 id_|embedding|excluded_embed_metadata_keys|excluded_llm_metadata_keys|       relationships|metadata_template|metadata_separator|                text|minetype|start_char_idx|end_char_idx|metadata_seperator|       text_template|class_name|\n",
      "+--------------------+---------+----------------------------+--------------------------+--------------------+-----------------+------------------+--------------------+--------+--------------+------------+------------------+--------------------+----------+\n",
      "|1deb95c5-15fb-466...|     NULL|        [file_name, file_...|      [file_name, file_...|{1 -> {metadata={...|   {key}: {value}|                \\n|What I Worked On\\...|    NULL|             2|        4320|                \\n|{metadata_str}\\n\\...|  TextNode|\n",
      "|f83cad5a-76b3-4b7...|     NULL|        [file_name, file_...|      [file_name, file_...|{1 -> {metadata={...|   {key}: {value}|                \\n|I couldn't have p...|    NULL|          3570|        7959|                \\n|{metadata_str}\\n\\...|  TextNode|\n",
      "|1d3300e0-921f-4ac...|     NULL|        [file_name, file_...|      [file_name, file_...|{1 -> {metadata={...|   {key}: {value}|                \\n|So I looked aroun...|    NULL|          7166|       11549|                \\n|{metadata_str}\\n\\...|  TextNode|\n",
      "|507abd79-1cda-4c1...|     NULL|        [file_name, file_...|      [file_name, file_...|{1 -> {metadata={...|   {key}: {value}|                \\n|I didn't want to ...|    NULL|         10764|       15165|                \\n|{metadata_str}\\n\\...|  TextNode|\n",
      "|999e4414-ba6e-428...|     NULL|        [file_name, file_...|      [file_name, file_...|{1 -> {metadata={...|   {key}: {value}|                \\n|We actually had o...|    NULL|         14282|       18597|                \\n|{metadata_str}\\n\\...|  TextNode|\n",
      "|92b824a8-8805-425...|     NULL|        [file_name, file_...|      [file_name, file_...|{1 -> {metadata={...|   {key}: {value}|                \\n|But Interleaf sti...|    NULL|         17775|       22189|                \\n|{metadata_str}\\n\\...|  TextNode|\n",
      "|b3b13b65-96c8-4e9...|     NULL|        [file_name, file_...|      [file_name, file_...|{1 -> {metadata={...|   {key}: {value}|                \\n|Painting students...|    NULL|         21314|       25564|                \\n|{metadata_str}\\n\\...|  TextNode|\n",
      "|6447a9ad-7671-47e...|     NULL|        [file_name, file_...|      [file_name, file_...|{1 -> {metadata={...|   {key}: {value}|                \\n|Meanwhile I'd bee...|    NULL|         24739|       29091|                \\n|{metadata_str}\\n\\...|  TextNode|\n",
      "|fcbbc216-911e-4b8...|     NULL|        [file_name, file_...|      [file_name, file_...|{1 -> {metadata={...|   {key}: {value}|                \\n|In return for tha...|    NULL|         28353|       32760|                \\n|{metadata_str}\\n\\...|  TextNode|\n",
      "|07dd7222-f381-421...|     NULL|        [file_name, file_...|      [file_name, file_...|{1 -> {metadata={...|   {key}: {value}|                \\n|Which meant being...|    NULL|         31960|       36280|                \\n|{metadata_str}\\n\\...|  TextNode|\n",
      "|df1c130b-266a-414...|     NULL|        [file_name, file_...|      [file_name, file_...|{1 -> {metadata={...|   {key}: {value}|                \\n|Nor had I changed...|    NULL|         35534|       39695|                \\n|{metadata_str}\\n\\...|  TextNode|\n",
      "|34776c75-bb82-43c...|     NULL|        [file_name, file_...|      [file_name, file_...|{1 -> {metadata={...|   {key}: {value}|                \\n|Now when I walked...|    NULL|         38943|       43296|                \\n|{metadata_str}\\n\\...|  TextNode|\n",
      "|cb327797-8dc8-4c8...|     NULL|        [file_name, file_...|      [file_name, file_...|{1 -> {metadata={...|   {key}: {value}|                \\n|A lot of Lisp hac...|    NULL|         42525|       46871|                \\n|{metadata_str}\\n\\...|  TextNode|\n",
      "|4ea4062a-c097-477...|     NULL|        [file_name, file_...|      [file_name, file_...|{1 -> {metadata={...|   {key}: {value}|                \\n|So while working ...|    NULL|         46068|       50524|                \\n|{metadata_str}\\n\\...|  TextNode|\n",
      "|a268d78b-bbfd-413...|     NULL|        [file_name, file_...|      [file_name, file_...|{1 -> {metadata={...|   {key}: {value}|                \\n|[13]\\n\\nOnce agai...|    NULL|         49706|       54097|                \\n|{metadata_str}\\n\\...|  TextNode|\n",
      "|8902c36e-e31a-4da...|     NULL|        [file_name, file_...|      [file_name, file_...|{1 -> {metadata={...|   {key}: {value}|                \\n|They were an impr...|    NULL|         53304|       57681|                \\n|{metadata_str}\\n\\...|  TextNode|\n",
      "|992e9ecb-47a6-493...|     NULL|        [file_name, file_...|      [file_name, file_...|{1 -> {metadata={...|   {key}: {value}|                \\n|But while I conti...|    NULL|         56805|       60908|                \\n|{metadata_str}\\n\\...|  TextNode|\n",
      "|05ae1419-14e1-4f9...|     NULL|        [file_name, file_...|      [file_name, file_...|{1 -> {metadata={...|   {key}: {value}|                \\n|So if Sam said ye...|    NULL|         60142|       64455|                \\n|{metadata_str}\\n\\...|  TextNode|\n",
      "|77db155c-1835-48d...|     NULL|        [file_name, file_...|      [file_name, file_...|{1 -> {metadata={...|   {key}: {value}|                \\n|That wouldn't hav...|    NULL|         63627|       68036|                \\n|{metadata_str}\\n\\...|  TextNode|\n",
      "|eb71455c-b651-483...|     NULL|        [file_name, file_...|      [file_name, file_...|{1 -> {metadata={...|   {key}: {value}|                \\n|I wrote an essay ...|    NULL|         67126|       71657|                \\n|{metadata_str}\\n\\...|  TextNode|\n",
      "+--------------------+---------+----------------------------+--------------------------+--------------------+-----------------+------------------+--------------------+--------+--------------+------------+------------------+--------------------+----------+\n",
      "only showing top 20 rows\n",
      "\n"
     ]
    }
   ],
   "source": [
    "spark_df.show()"
   ]
  },
  {
   "cell_type": "markdown",
   "id": "265f067a-6f8e-459e-ad5e-3aab68bd65bd",
   "metadata": {},
   "source": [
    "## Creating a Namespace in Nessie\n",
    "\n",
    "Before writing data to the Nessie catalog, we create a namespace in the catalog using Spark SQL"
   ]
  },
  {
   "cell_type": "code",
   "execution_count": 12,
   "id": "638ee410-cfda-4a0e-95b4-6c66324419a9",
   "metadata": {},
   "outputs": [
    {
     "name": "stdout",
     "output_type": "stream",
     "text": [
      "++\n",
      "||\n",
      "++\n",
      "++\n",
      "\n"
     ]
    }
   ],
   "source": [
    "spark.sql(\"CREATE NAMESPACE nessie.reads;\").show()"
   ]
  },
  {
   "cell_type": "markdown",
   "id": "1edaf12b-742f-4c65-9409-c5d51ff591c8",
   "metadata": {},
   "source": [
    "## Writing the dataframe to an Iceberg Table in Nessie"
   ]
  },
  {
   "cell_type": "code",
   "execution_count": 13,
   "id": "6d96b238-5eea-4aa8-a0a3-dde3f47e1a48",
   "metadata": {
    "scrolled": true
   },
   "outputs": [
    {
     "name": "stderr",
     "output_type": "stream",
     "text": [
      "SLF4J: Failed to load class \"org.slf4j.impl.StaticLoggerBinder\".  (0 + 16) / 16]\n",
      "SLF4J: Defaulting to no-operation (NOP) logger implementation\n",
      "SLF4J: See http://www.slf4j.org/codes.html#StaticLoggerBinder for further details.\n",
      "                                                                                \r"
     ]
    }
   ],
   "source": [
    "spark_df.writeTo(\"nessie.reads.read_data_raw\").createOrReplace()"
   ]
  },
  {
   "cell_type": "markdown",
   "id": "067cd125-d659-4881-a467-ccc6c7798a99",
   "metadata": {},
   "source": [
    "## Verifying the Iceberg Table"
   ]
  },
  {
   "cell_type": "code",
   "execution_count": 14,
   "id": "ce325255-321f-44a7-8784-98712c1c2cf3",
   "metadata": {
    "scrolled": true
   },
   "outputs": [
    {
     "name": "stderr",
     "output_type": "stream",
     "text": [
      "                                                                                \r"
     ]
    },
    {
     "name": "stdout",
     "output_type": "stream",
     "text": [
      "+--------------------+---------+----------------------------+--------------------------+--------------------+-----------------+------------------+--------------------+--------+--------------+------------+------------------+--------------------+----------+\n",
      "|                 id_|embedding|excluded_embed_metadata_keys|excluded_llm_metadata_keys|       relationships|metadata_template|metadata_separator|                text|minetype|start_char_idx|end_char_idx|metadata_seperator|       text_template|class_name|\n",
      "+--------------------+---------+----------------------------+--------------------------+--------------------+-----------------+------------------+--------------------+--------+--------------+------------+------------------+--------------------+----------+\n",
      "|1deb95c5-15fb-466...|     NULL|        [file_name, file_...|      [file_name, file_...|{1 -> {metadata={...|   {key}: {value}|                \\n|What I Worked On\\...|    NULL|             2|        4320|                \\n|{metadata_str}\\n\\...|  TextNode|\n",
      "|f83cad5a-76b3-4b7...|     NULL|        [file_name, file_...|      [file_name, file_...|{1 -> {metadata={...|   {key}: {value}|                \\n|I couldn't have p...|    NULL|          3570|        7959|                \\n|{metadata_str}\\n\\...|  TextNode|\n",
      "|1d3300e0-921f-4ac...|     NULL|        [file_name, file_...|      [file_name, file_...|{1 -> {metadata={...|   {key}: {value}|                \\n|So I looked aroun...|    NULL|          7166|       11549|                \\n|{metadata_str}\\n\\...|  TextNode|\n",
      "|507abd79-1cda-4c1...|     NULL|        [file_name, file_...|      [file_name, file_...|{1 -> {metadata={...|   {key}: {value}|                \\n|I didn't want to ...|    NULL|         10764|       15165|                \\n|{metadata_str}\\n\\...|  TextNode|\n",
      "|999e4414-ba6e-428...|     NULL|        [file_name, file_...|      [file_name, file_...|{1 -> {metadata={...|   {key}: {value}|                \\n|We actually had o...|    NULL|         14282|       18597|                \\n|{metadata_str}\\n\\...|  TextNode|\n",
      "|92b824a8-8805-425...|     NULL|        [file_name, file_...|      [file_name, file_...|{1 -> {metadata={...|   {key}: {value}|                \\n|But Interleaf sti...|    NULL|         17775|       22189|                \\n|{metadata_str}\\n\\...|  TextNode|\n",
      "|b3b13b65-96c8-4e9...|     NULL|        [file_name, file_...|      [file_name, file_...|{1 -> {metadata={...|   {key}: {value}|                \\n|Painting students...|    NULL|         21314|       25564|                \\n|{metadata_str}\\n\\...|  TextNode|\n",
      "|6447a9ad-7671-47e...|     NULL|        [file_name, file_...|      [file_name, file_...|{1 -> {metadata={...|   {key}: {value}|                \\n|Meanwhile I'd bee...|    NULL|         24739|       29091|                \\n|{metadata_str}\\n\\...|  TextNode|\n",
      "|fcbbc216-911e-4b8...|     NULL|        [file_name, file_...|      [file_name, file_...|{1 -> {metadata={...|   {key}: {value}|                \\n|In return for tha...|    NULL|         28353|       32760|                \\n|{metadata_str}\\n\\...|  TextNode|\n",
      "|07dd7222-f381-421...|     NULL|        [file_name, file_...|      [file_name, file_...|{1 -> {metadata={...|   {key}: {value}|                \\n|Which meant being...|    NULL|         31960|       36280|                \\n|{metadata_str}\\n\\...|  TextNode|\n",
      "|df1c130b-266a-414...|     NULL|        [file_name, file_...|      [file_name, file_...|{1 -> {metadata={...|   {key}: {value}|                \\n|Nor had I changed...|    NULL|         35534|       39695|                \\n|{metadata_str}\\n\\...|  TextNode|\n",
      "|34776c75-bb82-43c...|     NULL|        [file_name, file_...|      [file_name, file_...|{1 -> {metadata={...|   {key}: {value}|                \\n|Now when I walked...|    NULL|         38943|       43296|                \\n|{metadata_str}\\n\\...|  TextNode|\n",
      "|cb327797-8dc8-4c8...|     NULL|        [file_name, file_...|      [file_name, file_...|{1 -> {metadata={...|   {key}: {value}|                \\n|A lot of Lisp hac...|    NULL|         42525|       46871|                \\n|{metadata_str}\\n\\...|  TextNode|\n",
      "|4ea4062a-c097-477...|     NULL|        [file_name, file_...|      [file_name, file_...|{1 -> {metadata={...|   {key}: {value}|                \\n|So while working ...|    NULL|         46068|       50524|                \\n|{metadata_str}\\n\\...|  TextNode|\n",
      "|a268d78b-bbfd-413...|     NULL|        [file_name, file_...|      [file_name, file_...|{1 -> {metadata={...|   {key}: {value}|                \\n|[13]\\n\\nOnce agai...|    NULL|         49706|       54097|                \\n|{metadata_str}\\n\\...|  TextNode|\n",
      "|8902c36e-e31a-4da...|     NULL|        [file_name, file_...|      [file_name, file_...|{1 -> {metadata={...|   {key}: {value}|                \\n|They were an impr...|    NULL|         53304|       57681|                \\n|{metadata_str}\\n\\...|  TextNode|\n",
      "|992e9ecb-47a6-493...|     NULL|        [file_name, file_...|      [file_name, file_...|{1 -> {metadata={...|   {key}: {value}|                \\n|But while I conti...|    NULL|         56805|       60908|                \\n|{metadata_str}\\n\\...|  TextNode|\n",
      "|05ae1419-14e1-4f9...|     NULL|        [file_name, file_...|      [file_name, file_...|{1 -> {metadata={...|   {key}: {value}|                \\n|So if Sam said ye...|    NULL|         60142|       64455|                \\n|{metadata_str}\\n\\...|  TextNode|\n",
      "|77db155c-1835-48d...|     NULL|        [file_name, file_...|      [file_name, file_...|{1 -> {metadata={...|   {key}: {value}|                \\n|That wouldn't hav...|    NULL|         63627|       68036|                \\n|{metadata_str}\\n\\...|  TextNode|\n",
      "|eb71455c-b651-483...|     NULL|        [file_name, file_...|      [file_name, file_...|{1 -> {metadata={...|   {key}: {value}|                \\n|I wrote an essay ...|    NULL|         67126|       71657|                \\n|{metadata_str}\\n\\...|  TextNode|\n",
      "+--------------------+---------+----------------------------+--------------------------+--------------------+-----------------+------------------+--------------------+--------+--------------+------------+------------------+--------------------+----------+\n",
      "only showing top 20 rows\n",
      "\n"
     ]
    }
   ],
   "source": [
    "spark.read.table(\"nessie.reads.read_data_raw\").show()"
   ]
  },
  {
   "cell_type": "code",
   "execution_count": 15,
   "id": "8428c3b1-227a-4f51-a324-d51abfa21331",
   "metadata": {},
   "outputs": [],
   "source": [
    "spark.stop()"
   ]
  }
 ],
 "metadata": {
  "kernelspec": {
   "display_name": "Python 3 (ipykernel)",
   "language": "python",
   "name": "python3"
  },
  "language_info": {
   "codemirror_mode": {
    "name": "ipython",
    "version": 3
   },
   "file_extension": ".py",
   "mimetype": "text/x-python",
   "name": "python",
   "nbconvert_exporter": "python",
   "pygments_lexer": "ipython3",
   "version": "3.10.12"
  }
 },
 "nbformat": 4,
 "nbformat_minor": 5
}
