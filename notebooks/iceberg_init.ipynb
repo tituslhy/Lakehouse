{
 "cells": [
  {
   "cell_type": "markdown",
   "id": "3171ebc2",
   "metadata": {},
   "source": [
    "## Load catalog"
   ]
  },
  {
   "cell_type": "code",
   "execution_count": 1,
   "id": "a619a5bf",
   "metadata": {},
   "outputs": [],
   "source": [
    "from pyiceberg.catalog import load_catalog\n",
    "\n",
    "catalog = load_catalog(\n",
    "    \"docs\",\n",
    "    **{\n",
    "        \"uri\": \"http://127.0.0.1:8181\",\n",
    "        \"warehouse\": \"warehouse\",\n",
    "        \"s3.endpoint\": \"http://127.0.0.1:9000\",\n",
    "        \"py-io-impl\": \"pyiceberg.io.pyarrow.PyArrowFileIO\",\n",
    "        \"s3.access-key-id\": \"admin\",\n",
    "        \"s3.secret-access-key\": \"password\",\n",
    "    }\n",
    ")"
   ]
  },
  {
   "cell_type": "markdown",
   "id": "5a998247",
   "metadata": {},
   "source": [
    "Create a namespace"
   ]
  },
  {
   "cell_type": "code",
   "execution_count": 2,
   "id": "012e62e3",
   "metadata": {},
   "outputs": [],
   "source": [
    "catalog.create_namespace(\"docs_test\")"
   ]
  },
  {
   "cell_type": "markdown",
   "id": "f4f20388",
   "metadata": {},
   "source": [
    "List tables in namespace\n",
    "> It's blank because we haven't created a table yet"
   ]
  },
  {
   "cell_type": "code",
   "execution_count": 3,
   "id": "2b8eddaa",
   "metadata": {},
   "outputs": [
    {
     "data": {
      "text/plain": [
       "[]"
      ]
     },
     "execution_count": 3,
     "metadata": {},
     "output_type": "execute_result"
    }
   ],
   "source": [
    "catalog.list_tables(\"docs_test\")"
   ]
  },
  {
   "cell_type": "markdown",
   "id": "5e0cb455",
   "metadata": {},
   "source": [
    "## Create table"
   ]
  },
  {
   "cell_type": "code",
   "execution_count": 4,
   "id": "1d3195e0",
   "metadata": {},
   "outputs": [],
   "source": [
    "from llama_index.core import SimpleDirectoryReader\n",
    "from llama_index.core.node_parser import SentenceSplitter\n",
    "\n",
    "docs = SimpleDirectoryReader(\"../data/\").load_data()\n",
    "parser = SentenceSplitter.from_defaults()\n",
    "nodes = parser.get_nodes_from_documents(docs)"
   ]
  },
  {
   "cell_type": "code",
   "execution_count": 5,
   "id": "54b9f5cf",
   "metadata": {},
   "outputs": [
    {
     "data": {
      "text/plain": [
       "22"
      ]
     },
     "execution_count": 5,
     "metadata": {},
     "output_type": "execute_result"
    }
   ],
   "source": [
    "len(nodes)"
   ]
  },
  {
   "cell_type": "code",
   "execution_count": 6,
   "id": "4ad2fc1a",
   "metadata": {},
   "outputs": [],
   "source": [
    "serialized = [node.model_dump() for node in nodes]"
   ]
  },
  {
   "cell_type": "code",
   "execution_count": 7,
   "id": "9141b360",
   "metadata": {},
   "outputs": [
    {
     "data": {
      "text/html": [
       "<div>\n",
       "<style scoped>\n",
       "    .dataframe tbody tr th:only-of-type {\n",
       "        vertical-align: middle;\n",
       "    }\n",
       "\n",
       "    .dataframe tbody tr th {\n",
       "        vertical-align: top;\n",
       "    }\n",
       "\n",
       "    .dataframe thead th {\n",
       "        text-align: right;\n",
       "    }\n",
       "</style>\n",
       "<table border=\"1\" class=\"dataframe\">\n",
       "  <thead>\n",
       "    <tr style=\"text-align: right;\">\n",
       "      <th></th>\n",
       "      <th>id_</th>\n",
       "      <th>embedding</th>\n",
       "      <th>metadata</th>\n",
       "      <th>excluded_embed_metadata_keys</th>\n",
       "      <th>excluded_llm_metadata_keys</th>\n",
       "      <th>relationships</th>\n",
       "      <th>metadata_template</th>\n",
       "      <th>metadata_separator</th>\n",
       "      <th>text</th>\n",
       "      <th>mimetype</th>\n",
       "      <th>start_char_idx</th>\n",
       "      <th>end_char_idx</th>\n",
       "      <th>metadata_seperator</th>\n",
       "      <th>text_template</th>\n",
       "      <th>class_name</th>\n",
       "    </tr>\n",
       "  </thead>\n",
       "  <tbody>\n",
       "    <tr>\n",
       "      <th>0</th>\n",
       "      <td>9e26b30c-dbe5-4731-83b1-124d89a63bf3</td>\n",
       "      <td>None</td>\n",
       "      <td>{'file_path': '/Users/tituslim/Documents/Perso...</td>\n",
       "      <td>[file_name, file_type, file_size, creation_dat...</td>\n",
       "      <td>[file_name, file_type, file_size, creation_dat...</td>\n",
       "      <td>{'1': {'node_id': 'ec21c3ff-e429-4b44-9d12-532...</td>\n",
       "      <td>{key}: {value}</td>\n",
       "      <td>\\n</td>\n",
       "      <td>What I Worked On\\n\\nFebruary 2021\\n\\nBefore co...</td>\n",
       "      <td>text/plain</td>\n",
       "      <td>2</td>\n",
       "      <td>4172</td>\n",
       "      <td>\\n</td>\n",
       "      <td>{metadata_str}\\n\\n{content}</td>\n",
       "      <td>TextNode</td>\n",
       "    </tr>\n",
       "    <tr>\n",
       "      <th>1</th>\n",
       "      <td>7836be7f-4a7a-4d0c-9a7e-e6bfb8547055</td>\n",
       "      <td>None</td>\n",
       "      <td>{'file_path': '/Users/tituslim/Documents/Perso...</td>\n",
       "      <td>[file_name, file_type, file_size, creation_dat...</td>\n",
       "      <td>[file_name, file_type, file_size, creation_dat...</td>\n",
       "      <td>{'1': {'node_id': 'ec21c3ff-e429-4b44-9d12-532...</td>\n",
       "      <td>{key}: {value}</td>\n",
       "      <td>\\n</td>\n",
       "      <td>All that seemed left for philosophy were edge ...</td>\n",
       "      <td>text/plain</td>\n",
       "      <td>3459</td>\n",
       "      <td>7784</td>\n",
       "      <td>\\n</td>\n",
       "      <td>{metadata_str}\\n\\n{content}</td>\n",
       "      <td>TextNode</td>\n",
       "    </tr>\n",
       "    <tr>\n",
       "      <th>2</th>\n",
       "      <td>9124bf3e-9238-4923-8ef7-cb4f04200d8b</td>\n",
       "      <td>None</td>\n",
       "      <td>{'file_path': '/Users/tituslim/Documents/Perso...</td>\n",
       "      <td>[file_name, file_type, file_size, creation_dat...</td>\n",
       "      <td>[file_name, file_type, file_size, creation_dat...</td>\n",
       "      <td>{'1': {'node_id': 'ec21c3ff-e429-4b44-9d12-532...</td>\n",
       "      <td>{key}: {value}</td>\n",
       "      <td>\\n</td>\n",
       "      <td>Its brokenness did, as so often happens, gener...</td>\n",
       "      <td>text/plain</td>\n",
       "      <td>6984</td>\n",
       "      <td>11177</td>\n",
       "      <td>\\n</td>\n",
       "      <td>{metadata_str}\\n\\n{content}</td>\n",
       "      <td>TextNode</td>\n",
       "    </tr>\n",
       "    <tr>\n",
       "      <th>3</th>\n",
       "      <td>fe619921-905b-46c9-a03b-2f1445bc6c38</td>\n",
       "      <td>None</td>\n",
       "      <td>{'file_path': '/Users/tituslim/Documents/Perso...</td>\n",
       "      <td>[file_name, file_type, file_size, creation_dat...</td>\n",
       "      <td>[file_name, file_type, file_size, creation_dat...</td>\n",
       "      <td>{'1': {'node_id': 'ec21c3ff-e429-4b44-9d12-532...</td>\n",
       "      <td>{key}: {value}</td>\n",
       "      <td>\\n</td>\n",
       "      <td>If he even knew about the strange classes I wa...</td>\n",
       "      <td>text/plain</td>\n",
       "      <td>10369</td>\n",
       "      <td>14708</td>\n",
       "      <td>\\n</td>\n",
       "      <td>{metadata_str}\\n\\n{content}</td>\n",
       "      <td>TextNode</td>\n",
       "    </tr>\n",
       "    <tr>\n",
       "      <th>4</th>\n",
       "      <td>2e4d036b-3ccb-47fe-a82d-c80d632d06f0</td>\n",
       "      <td>None</td>\n",
       "      <td>{'file_path': '/Users/tituslim/Documents/Perso...</td>\n",
       "      <td>[file_name, file_type, file_size, creation_dat...</td>\n",
       "      <td>[file_name, file_type, file_size, creation_dat...</td>\n",
       "      <td>{'1': {'node_id': 'ec21c3ff-e429-4b44-9d12-532...</td>\n",
       "      <td>{key}: {value}</td>\n",
       "      <td>\\n</td>\n",
       "      <td>The students and faculty in the painting depar...</td>\n",
       "      <td>text/plain</td>\n",
       "      <td>13874</td>\n",
       "      <td>18165</td>\n",
       "      <td>\\n</td>\n",
       "      <td>{metadata_str}\\n\\n{content}</td>\n",
       "      <td>TextNode</td>\n",
       "    </tr>\n",
       "  </tbody>\n",
       "</table>\n",
       "</div>"
      ],
      "text/plain": [
       "                                    id_ embedding  \\\n",
       "0  9e26b30c-dbe5-4731-83b1-124d89a63bf3      None   \n",
       "1  7836be7f-4a7a-4d0c-9a7e-e6bfb8547055      None   \n",
       "2  9124bf3e-9238-4923-8ef7-cb4f04200d8b      None   \n",
       "3  fe619921-905b-46c9-a03b-2f1445bc6c38      None   \n",
       "4  2e4d036b-3ccb-47fe-a82d-c80d632d06f0      None   \n",
       "\n",
       "                                            metadata  \\\n",
       "0  {'file_path': '/Users/tituslim/Documents/Perso...   \n",
       "1  {'file_path': '/Users/tituslim/Documents/Perso...   \n",
       "2  {'file_path': '/Users/tituslim/Documents/Perso...   \n",
       "3  {'file_path': '/Users/tituslim/Documents/Perso...   \n",
       "4  {'file_path': '/Users/tituslim/Documents/Perso...   \n",
       "\n",
       "                        excluded_embed_metadata_keys  \\\n",
       "0  [file_name, file_type, file_size, creation_dat...   \n",
       "1  [file_name, file_type, file_size, creation_dat...   \n",
       "2  [file_name, file_type, file_size, creation_dat...   \n",
       "3  [file_name, file_type, file_size, creation_dat...   \n",
       "4  [file_name, file_type, file_size, creation_dat...   \n",
       "\n",
       "                          excluded_llm_metadata_keys  \\\n",
       "0  [file_name, file_type, file_size, creation_dat...   \n",
       "1  [file_name, file_type, file_size, creation_dat...   \n",
       "2  [file_name, file_type, file_size, creation_dat...   \n",
       "3  [file_name, file_type, file_size, creation_dat...   \n",
       "4  [file_name, file_type, file_size, creation_dat...   \n",
       "\n",
       "                                       relationships metadata_template  \\\n",
       "0  {'1': {'node_id': 'ec21c3ff-e429-4b44-9d12-532...    {key}: {value}   \n",
       "1  {'1': {'node_id': 'ec21c3ff-e429-4b44-9d12-532...    {key}: {value}   \n",
       "2  {'1': {'node_id': 'ec21c3ff-e429-4b44-9d12-532...    {key}: {value}   \n",
       "3  {'1': {'node_id': 'ec21c3ff-e429-4b44-9d12-532...    {key}: {value}   \n",
       "4  {'1': {'node_id': 'ec21c3ff-e429-4b44-9d12-532...    {key}: {value}   \n",
       "\n",
       "  metadata_separator                                               text  \\\n",
       "0                 \\n  What I Worked On\\n\\nFebruary 2021\\n\\nBefore co...   \n",
       "1                 \\n  All that seemed left for philosophy were edge ...   \n",
       "2                 \\n  Its brokenness did, as so often happens, gener...   \n",
       "3                 \\n  If he even knew about the strange classes I wa...   \n",
       "4                 \\n  The students and faculty in the painting depar...   \n",
       "\n",
       "     mimetype  start_char_idx  end_char_idx metadata_seperator  \\\n",
       "0  text/plain               2          4172                 \\n   \n",
       "1  text/plain            3459          7784                 \\n   \n",
       "2  text/plain            6984         11177                 \\n   \n",
       "3  text/plain           10369         14708                 \\n   \n",
       "4  text/plain           13874         18165                 \\n   \n",
       "\n",
       "                 text_template class_name  \n",
       "0  {metadata_str}\\n\\n{content}   TextNode  \n",
       "1  {metadata_str}\\n\\n{content}   TextNode  \n",
       "2  {metadata_str}\\n\\n{content}   TextNode  \n",
       "3  {metadata_str}\\n\\n{content}   TextNode  \n",
       "4  {metadata_str}\\n\\n{content}   TextNode  "
      ]
     },
     "execution_count": 7,
     "metadata": {},
     "output_type": "execute_result"
    }
   ],
   "source": [
    "import pandas as pd\n",
    "\n",
    "df = pd.DataFrame(serialized)\n",
    "df.head()"
   ]
  },
  {
   "cell_type": "code",
   "execution_count": null,
   "id": "3d413da3",
   "metadata": {},
   "outputs": [],
   "source": [
    "from pyiceberg.schema import Schema, NestedField\n",
    "from pyiceberg.types import (\n",
    "    StringType,\n",
    "    IntegerType,\n",
    "    FloatType,\n",
    "    ListType,\n",
    "    MapType,\n",
    ")\n",
    "\n",
    "iceberg_schema = Schema(\n",
    "    NestedField(\n",
    "        1, \"id_\", field_type=StringType(), required = True,\n",
    "    ),\n",
    "    NestedField(\n",
    "        2,  \n",
    "        \"embedding\",\n",
    "        field_type=ListType(\n",
    "            element_id= 2,element_type=FloatType(), elemet_required=False,\n",
    "        ), \n",
    "        required=False\n",
    "    ),\n",
    "    NestedField(\n",
    "        3,  \n",
    "        \"excluded_embed_metadata_keys\", \n",
    "        field_type=ListType(element_id= 3, element_type=StringType()),\n",
    "        required=True\n",
    "    ),\n",
    "    NestedField(\n",
    "        4,\n",
    "        \"excluded_llm_metadata_keys\",\n",
    "        field_type=ListType(element_id= 4, element_type=StringType()),\n",
    "        required=True,\n",
    "    ),\n",
    "    NestedField(\n",
    "        5,  \n",
    "        \"relationships\", \n",
    "        field_type=MapType(key_id = 5, key_type=StringType(), value_id=5, value_type=StringType()),\n",
    "        rquired = True,\n",
    "    ),\n",
    "    NestedField(\n",
    "        6, \"metadata_template\", field_type=StringType(), required=True\n",
    "    ),\n",
    "    NestedField(\n",
    "        7, \"metadata_separator\", field_type=StringType(), required=True\n",
    "    ),\n",
    "    NestedField(\n",
    "        8, \"text\", field_type=StringType(), required=True\n",
    "    ),\n",
    "    NestedField(\n",
    "        9, \"minetype\",field_type=StringType(), required=True\n",
    "    ),\n",
    "    NestedField(\n",
    "        10, \"start_char_idx\", field_type=IntegerType(),required=True\n",
    "    ),\n",
    "    NestedField(\n",
    "        11, \"end_char_idx\", field_type=IntegerType(),required=True\n",
    "    ),\n",
    "    NestedField(\n",
    "        12, \"metadata_seperator\", field_type=StringType(),required=True\n",
    "    ),\n",
    "    NestedField(\n",
    "        13, \"text_template\", field_type=StringType(),required=True\n",
    "    ),\n",
    "    NestedField(\n",
    "        14, \"class_name\", field_type=StringType(),required=True\n",
    "    ),\n",
    ")"
   ]
  },
  {
   "cell_type": "code",
   "execution_count": 9,
   "id": "57103d00",
   "metadata": {},
   "outputs": [],
   "source": [
    "tbl = catalog.create_table(\n",
    "    identifier=\"docs_test.bids\",\n",
    "    schema=iceberg_schema,\n",
    ")"
   ]
  },
  {
   "cell_type": "markdown",
   "id": "3d1757d5",
   "metadata": {},
   "source": [
    "## Write data into table"
   ]
  },
  {
   "cell_type": "code",
   "execution_count": 10,
   "id": "0ec7b9df",
   "metadata": {},
   "outputs": [],
   "source": [
    "import pyarrow as pa\n",
    "\n",
    "datatable = pa.Table.from_pandas(df)"
   ]
  },
  {
   "cell_type": "code",
   "execution_count": 12,
   "id": "931c50f9",
   "metadata": {},
   "outputs": [
    {
     "ename": "UnsupportedPyArrowTypeException",
     "evalue": "Column 'embedding' has an unsupported type: null",
     "output_type": "error",
     "traceback": [
      "\u001b[0;31m---------------------------------------------------------------------------\u001b[0m",
      "\u001b[0;31mTypeError\u001b[0m                                 Traceback (most recent call last)",
      "File \u001b[0;32m~/Documents/Personal Learning Folder/Personal Projects/Lakehouse/.venv/lib/python3.12/site-packages/pyiceberg/io/pyarrow.py:1030\u001b[0m, in \u001b[0;36m_\u001b[0;34m(obj, visitor)\u001b[0m\n\u001b[1;32m   1029\u001b[0m \u001b[38;5;28;01mtry\u001b[39;00m:\n\u001b[0;32m-> 1030\u001b[0m     result \u001b[38;5;241m=\u001b[39m \u001b[43mvisit_pyarrow\u001b[49m\u001b[43m(\u001b[49m\u001b[43mfield_type\u001b[49m\u001b[43m,\u001b[49m\u001b[43m \u001b[49m\u001b[43mvisitor\u001b[49m\u001b[43m)\u001b[49m\n\u001b[1;32m   1031\u001b[0m \u001b[38;5;28;01mexcept\u001b[39;00m \u001b[38;5;167;01mTypeError\u001b[39;00m \u001b[38;5;28;01mas\u001b[39;00m e:\n",
      "File \u001b[0;32m/opt/anaconda3/envs/llamaindex/lib/python3.12/functools.py:907\u001b[0m, in \u001b[0;36msingledispatch.<locals>.wrapper\u001b[0;34m(*args, **kw)\u001b[0m\n\u001b[1;32m    904\u001b[0m     \u001b[38;5;28;01mraise\u001b[39;00m \u001b[38;5;167;01mTypeError\u001b[39;00m(\u001b[38;5;124mf\u001b[39m\u001b[38;5;124m'\u001b[39m\u001b[38;5;132;01m{\u001b[39;00mfuncname\u001b[38;5;132;01m}\u001b[39;00m\u001b[38;5;124m requires at least \u001b[39m\u001b[38;5;124m'\u001b[39m\n\u001b[1;32m    905\u001b[0m                     \u001b[38;5;124m'\u001b[39m\u001b[38;5;124m1 positional argument\u001b[39m\u001b[38;5;124m'\u001b[39m)\n\u001b[0;32m--> 907\u001b[0m \u001b[38;5;28;01mreturn\u001b[39;00m \u001b[43mdispatch\u001b[49m\u001b[43m(\u001b[49m\u001b[43margs\u001b[49m\u001b[43m[\u001b[49m\u001b[38;5;241;43m0\u001b[39;49m\u001b[43m]\u001b[49m\u001b[38;5;241;43m.\u001b[39;49m\u001b[38;5;18;43m__class__\u001b[39;49m\u001b[43m)\u001b[49m\u001b[43m(\u001b[49m\u001b[38;5;241;43m*\u001b[39;49m\u001b[43margs\u001b[49m\u001b[43m,\u001b[49m\u001b[43m \u001b[49m\u001b[38;5;241;43m*\u001b[39;49m\u001b[38;5;241;43m*\u001b[39;49m\u001b[43mkw\u001b[49m\u001b[43m)\u001b[49m\n",
      "File \u001b[0;32m~/Documents/Personal Learning Folder/Personal Projects/Lakehouse/.venv/lib/python3.12/site-packages/pyiceberg/io/pyarrow.py:1042\u001b[0m, in \u001b[0;36m_\u001b[0;34m(obj, visitor)\u001b[0m\n\u001b[1;32m   1041\u001b[0m     \u001b[38;5;28;01mraise\u001b[39;00m \u001b[38;5;167;01mTypeError\u001b[39;00m(\u001b[38;5;124mf\u001b[39m\u001b[38;5;124m\"\u001b[39m\u001b[38;5;124mExpected primitive type, got: \u001b[39m\u001b[38;5;132;01m{\u001b[39;00m\u001b[38;5;28mtype\u001b[39m(obj)\u001b[38;5;132;01m}\u001b[39;00m\u001b[38;5;124m\"\u001b[39m)\n\u001b[0;32m-> 1042\u001b[0m \u001b[38;5;28;01mreturn\u001b[39;00m \u001b[43mvisitor\u001b[49m\u001b[38;5;241;43m.\u001b[39;49m\u001b[43mprimitive\u001b[49m\u001b[43m(\u001b[49m\u001b[43mobj\u001b[49m\u001b[43m)\u001b[49m\n",
      "File \u001b[0;32m~/Documents/Personal Learning Folder/Personal Projects/Lakehouse/.venv/lib/python3.12/site-packages/pyiceberg/io/pyarrow.py:1225\u001b[0m, in \u001b[0;36m_ConvertToIceberg.primitive\u001b[0;34m(self, primitive)\u001b[0m\n\u001b[1;32m   1223\u001b[0m     \u001b[38;5;28;01mreturn\u001b[39;00m FixedType(primitive\u001b[38;5;241m.\u001b[39mbyte_width)\n\u001b[0;32m-> 1225\u001b[0m \u001b[38;5;28;01mraise\u001b[39;00m \u001b[38;5;167;01mTypeError\u001b[39;00m(\u001b[38;5;124mf\u001b[39m\u001b[38;5;124m\"\u001b[39m\u001b[38;5;124mUnsupported type: \u001b[39m\u001b[38;5;132;01m{\u001b[39;00mprimitive\u001b[38;5;132;01m}\u001b[39;00m\u001b[38;5;124m\"\u001b[39m)\n",
      "\u001b[0;31mTypeError\u001b[0m: Unsupported type: null",
      "\nThe above exception was the direct cause of the following exception:\n",
      "\u001b[0;31mUnsupportedPyArrowTypeException\u001b[0m           Traceback (most recent call last)",
      "Cell \u001b[0;32mIn[12], line 1\u001b[0m\n\u001b[0;32m----> 1\u001b[0m \u001b[43mtbl\u001b[49m\u001b[38;5;241;43m.\u001b[39;49m\u001b[43mappend\u001b[49m\u001b[43m(\u001b[49m\u001b[43mdatatable\u001b[49m\u001b[43m)\u001b[49m\n",
      "File \u001b[0;32m~/Documents/Personal Learning Folder/Personal Projects/Lakehouse/.venv/lib/python3.12/site-packages/pyiceberg/table/__init__.py:1229\u001b[0m, in \u001b[0;36mTable.append\u001b[0;34m(self, df, snapshot_properties)\u001b[0m\n\u001b[1;32m   1221\u001b[0m \u001b[38;5;250m\u001b[39m\u001b[38;5;124;03m\"\"\"\u001b[39;00m\n\u001b[1;32m   1222\u001b[0m \u001b[38;5;124;03mShorthand API for appending a PyArrow table to the table.\u001b[39;00m\n\u001b[1;32m   1223\u001b[0m \n\u001b[0;32m   (...)\u001b[0m\n\u001b[1;32m   1226\u001b[0m \u001b[38;5;124;03m    snapshot_properties: Custom properties to be added to the snapshot summary\u001b[39;00m\n\u001b[1;32m   1227\u001b[0m \u001b[38;5;124;03m\"\"\"\u001b[39;00m\n\u001b[1;32m   1228\u001b[0m \u001b[38;5;28;01mwith\u001b[39;00m \u001b[38;5;28mself\u001b[39m\u001b[38;5;241m.\u001b[39mtransaction() \u001b[38;5;28;01mas\u001b[39;00m tx:\n\u001b[0;32m-> 1229\u001b[0m     \u001b[43mtx\u001b[49m\u001b[38;5;241;43m.\u001b[39;49m\u001b[43mappend\u001b[49m\u001b[43m(\u001b[49m\u001b[43mdf\u001b[49m\u001b[38;5;241;43m=\u001b[39;49m\u001b[43mdf\u001b[49m\u001b[43m,\u001b[49m\u001b[43m \u001b[49m\u001b[43msnapshot_properties\u001b[49m\u001b[38;5;241;43m=\u001b[39;49m\u001b[43msnapshot_properties\u001b[49m\u001b[43m)\u001b[49m\n",
      "File \u001b[0;32m~/Documents/Personal Learning Folder/Personal Projects/Lakehouse/.venv/lib/python3.12/site-packages/pyiceberg/table/__init__.py:466\u001b[0m, in \u001b[0;36mTransaction.append\u001b[0;34m(self, df, snapshot_properties)\u001b[0m\n\u001b[1;32m    462\u001b[0m     \u001b[38;5;28;01mraise\u001b[39;00m \u001b[38;5;167;01mValueError\u001b[39;00m(\n\u001b[1;32m    463\u001b[0m         \u001b[38;5;124mf\u001b[39m\u001b[38;5;124m\"\u001b[39m\u001b[38;5;124mNot all partition types are supported for writes. Following partitions cannot be written using pyarrow: \u001b[39m\u001b[38;5;132;01m{\u001b[39;00munsupported_partitions\u001b[38;5;132;01m}\u001b[39;00m\u001b[38;5;124m.\u001b[39m\u001b[38;5;124m\"\u001b[39m\n\u001b[1;32m    464\u001b[0m     )\n\u001b[1;32m    465\u001b[0m downcast_ns_timestamp_to_us \u001b[38;5;241m=\u001b[39m Config()\u001b[38;5;241m.\u001b[39mget_bool(DOWNCAST_NS_TIMESTAMP_TO_US_ON_WRITE) \u001b[38;5;129;01mor\u001b[39;00m \u001b[38;5;28;01mFalse\u001b[39;00m\n\u001b[0;32m--> 466\u001b[0m \u001b[43m_check_pyarrow_schema_compatible\u001b[49m\u001b[43m(\u001b[49m\n\u001b[1;32m    467\u001b[0m \u001b[43m    \u001b[49m\u001b[38;5;28;43mself\u001b[39;49m\u001b[38;5;241;43m.\u001b[39;49m\u001b[43mtable_metadata\u001b[49m\u001b[38;5;241;43m.\u001b[39;49m\u001b[43mschema\u001b[49m\u001b[43m(\u001b[49m\u001b[43m)\u001b[49m\u001b[43m,\u001b[49m\u001b[43m \u001b[49m\u001b[43mprovided_schema\u001b[49m\u001b[38;5;241;43m=\u001b[39;49m\u001b[43mdf\u001b[49m\u001b[38;5;241;43m.\u001b[39;49m\u001b[43mschema\u001b[49m\u001b[43m,\u001b[49m\u001b[43m \u001b[49m\u001b[43mdowncast_ns_timestamp_to_us\u001b[49m\u001b[38;5;241;43m=\u001b[39;49m\u001b[43mdowncast_ns_timestamp_to_us\u001b[49m\n\u001b[1;32m    468\u001b[0m \u001b[43m\u001b[49m\u001b[43m)\u001b[49m\n\u001b[1;32m    470\u001b[0m \u001b[38;5;28;01mwith\u001b[39;00m \u001b[38;5;28mself\u001b[39m\u001b[38;5;241m.\u001b[39m_append_snapshot_producer(snapshot_properties) \u001b[38;5;28;01mas\u001b[39;00m append_files:\n\u001b[1;32m    471\u001b[0m     \u001b[38;5;66;03m# skip writing data files if the dataframe is empty\u001b[39;00m\n\u001b[1;32m    472\u001b[0m     \u001b[38;5;28;01mif\u001b[39;00m df\u001b[38;5;241m.\u001b[39mshape[\u001b[38;5;241m0\u001b[39m] \u001b[38;5;241m>\u001b[39m \u001b[38;5;241m0\u001b[39m:\n",
      "File \u001b[0;32m~/Documents/Personal Learning Folder/Personal Projects/Lakehouse/.venv/lib/python3.12/site-packages/pyiceberg/io/pyarrow.py:2473\u001b[0m, in \u001b[0;36m_check_pyarrow_schema_compatible\u001b[0;34m(requested_schema, provided_schema, downcast_ns_timestamp_to_us)\u001b[0m\n\u001b[1;32m   2471\u001b[0m name_mapping \u001b[38;5;241m=\u001b[39m requested_schema\u001b[38;5;241m.\u001b[39mname_mapping\n\u001b[1;32m   2472\u001b[0m \u001b[38;5;28;01mtry\u001b[39;00m:\n\u001b[0;32m-> 2473\u001b[0m     provided_schema \u001b[38;5;241m=\u001b[39m \u001b[43mpyarrow_to_schema\u001b[49m\u001b[43m(\u001b[49m\n\u001b[1;32m   2474\u001b[0m \u001b[43m        \u001b[49m\u001b[43mprovided_schema\u001b[49m\u001b[43m,\u001b[49m\u001b[43m \u001b[49m\u001b[43mname_mapping\u001b[49m\u001b[38;5;241;43m=\u001b[39;49m\u001b[43mname_mapping\u001b[49m\u001b[43m,\u001b[49m\u001b[43m \u001b[49m\u001b[43mdowncast_ns_timestamp_to_us\u001b[49m\u001b[38;5;241;43m=\u001b[39;49m\u001b[43mdowncast_ns_timestamp_to_us\u001b[49m\n\u001b[1;32m   2475\u001b[0m \u001b[43m    \u001b[49m\u001b[43m)\u001b[49m\n\u001b[1;32m   2476\u001b[0m \u001b[38;5;28;01mexcept\u001b[39;00m \u001b[38;5;167;01mValueError\u001b[39;00m \u001b[38;5;28;01mas\u001b[39;00m e:\n\u001b[1;32m   2477\u001b[0m     provided_schema \u001b[38;5;241m=\u001b[39m _pyarrow_to_schema_without_ids(provided_schema, downcast_ns_timestamp_to_us\u001b[38;5;241m=\u001b[39mdowncast_ns_timestamp_to_us)\n",
      "File \u001b[0;32m~/Documents/Personal Learning Folder/Personal Projects/Lakehouse/.venv/lib/python3.12/site-packages/pyiceberg/io/pyarrow.py:943\u001b[0m, in \u001b[0;36mpyarrow_to_schema\u001b[0;34m(schema, name_mapping, downcast_ns_timestamp_to_us)\u001b[0m\n\u001b[1;32m    941\u001b[0m     \u001b[38;5;28;01mreturn\u001b[39;00m visit_pyarrow(schema, _ConvertToIceberg(downcast_ns_timestamp_to_us\u001b[38;5;241m=\u001b[39mdowncast_ns_timestamp_to_us))\n\u001b[1;32m    942\u001b[0m \u001b[38;5;28;01melif\u001b[39;00m name_mapping \u001b[38;5;129;01mis\u001b[39;00m \u001b[38;5;129;01mnot\u001b[39;00m \u001b[38;5;28;01mNone\u001b[39;00m:\n\u001b[0;32m--> 943\u001b[0m     schema_without_ids \u001b[38;5;241m=\u001b[39m \u001b[43m_pyarrow_to_schema_without_ids\u001b[49m\u001b[43m(\u001b[49m\u001b[43mschema\u001b[49m\u001b[43m,\u001b[49m\u001b[43m \u001b[49m\u001b[43mdowncast_ns_timestamp_to_us\u001b[49m\u001b[38;5;241;43m=\u001b[39;49m\u001b[43mdowncast_ns_timestamp_to_us\u001b[49m\u001b[43m)\u001b[49m\n\u001b[1;32m    944\u001b[0m     \u001b[38;5;28;01mreturn\u001b[39;00m apply_name_mapping(schema_without_ids, name_mapping)\n\u001b[1;32m    945\u001b[0m \u001b[38;5;28;01melse\u001b[39;00m:\n",
      "File \u001b[0;32m~/Documents/Personal Learning Folder/Personal Projects/Lakehouse/.venv/lib/python3.12/site-packages/pyiceberg/io/pyarrow.py:952\u001b[0m, in \u001b[0;36m_pyarrow_to_schema_without_ids\u001b[0;34m(schema, downcast_ns_timestamp_to_us)\u001b[0m\n\u001b[1;32m    951\u001b[0m \u001b[38;5;28;01mdef\u001b[39;00m\u001b[38;5;250m \u001b[39m\u001b[38;5;21m_pyarrow_to_schema_without_ids\u001b[39m(schema: pa\u001b[38;5;241m.\u001b[39mSchema, downcast_ns_timestamp_to_us: \u001b[38;5;28mbool\u001b[39m \u001b[38;5;241m=\u001b[39m \u001b[38;5;28;01mFalse\u001b[39;00m) \u001b[38;5;241m-\u001b[39m\u001b[38;5;241m>\u001b[39m Schema:\n\u001b[0;32m--> 952\u001b[0m     \u001b[38;5;28;01mreturn\u001b[39;00m \u001b[43mvisit_pyarrow\u001b[49m\u001b[43m(\u001b[49m\u001b[43mschema\u001b[49m\u001b[43m,\u001b[49m\u001b[43m \u001b[49m\u001b[43m_ConvertToIcebergWithoutIDs\u001b[49m\u001b[43m(\u001b[49m\u001b[43mdowncast_ns_timestamp_to_us\u001b[49m\u001b[38;5;241;43m=\u001b[39;49m\u001b[43mdowncast_ns_timestamp_to_us\u001b[49m\u001b[43m)\u001b[49m\u001b[43m)\u001b[49m\n",
      "File \u001b[0;32m/opt/anaconda3/envs/llamaindex/lib/python3.12/functools.py:907\u001b[0m, in \u001b[0;36msingledispatch.<locals>.wrapper\u001b[0;34m(*args, **kw)\u001b[0m\n\u001b[1;32m    903\u001b[0m \u001b[38;5;28;01mif\u001b[39;00m \u001b[38;5;129;01mnot\u001b[39;00m args:\n\u001b[1;32m    904\u001b[0m     \u001b[38;5;28;01mraise\u001b[39;00m \u001b[38;5;167;01mTypeError\u001b[39;00m(\u001b[38;5;124mf\u001b[39m\u001b[38;5;124m'\u001b[39m\u001b[38;5;132;01m{\u001b[39;00mfuncname\u001b[38;5;132;01m}\u001b[39;00m\u001b[38;5;124m requires at least \u001b[39m\u001b[38;5;124m'\u001b[39m\n\u001b[1;32m    905\u001b[0m                     \u001b[38;5;124m'\u001b[39m\u001b[38;5;124m1 positional argument\u001b[39m\u001b[38;5;124m'\u001b[39m)\n\u001b[0;32m--> 907\u001b[0m \u001b[38;5;28;01mreturn\u001b[39;00m \u001b[43mdispatch\u001b[49m\u001b[43m(\u001b[49m\u001b[43margs\u001b[49m\u001b[43m[\u001b[49m\u001b[38;5;241;43m0\u001b[39;49m\u001b[43m]\u001b[49m\u001b[38;5;241;43m.\u001b[39;49m\u001b[38;5;18;43m__class__\u001b[39;49m\u001b[43m)\u001b[49m\u001b[43m(\u001b[49m\u001b[38;5;241;43m*\u001b[39;49m\u001b[43margs\u001b[49m\u001b[43m,\u001b[49m\u001b[43m \u001b[49m\u001b[38;5;241;43m*\u001b[39;49m\u001b[38;5;241;43m*\u001b[39;49m\u001b[43mkw\u001b[49m\u001b[43m)\u001b[49m\n",
      "File \u001b[0;32m~/Documents/Personal Learning Folder/Personal Projects/Lakehouse/.venv/lib/python3.12/site-packages/pyiceberg/io/pyarrow.py:981\u001b[0m, in \u001b[0;36m_\u001b[0;34m(obj, visitor)\u001b[0m\n\u001b[1;32m    979\u001b[0m \u001b[38;5;129m@visit_pyarrow\u001b[39m\u001b[38;5;241m.\u001b[39mregister(pa\u001b[38;5;241m.\u001b[39mSchema)\n\u001b[1;32m    980\u001b[0m \u001b[38;5;28;01mdef\u001b[39;00m\u001b[38;5;250m \u001b[39m\u001b[38;5;21m_\u001b[39m(obj: pa\u001b[38;5;241m.\u001b[39mSchema, visitor: PyArrowSchemaVisitor[T]) \u001b[38;5;241m-\u001b[39m\u001b[38;5;241m>\u001b[39m T:\n\u001b[0;32m--> 981\u001b[0m     \u001b[38;5;28;01mreturn\u001b[39;00m visitor\u001b[38;5;241m.\u001b[39mschema(obj, \u001b[43mvisit_pyarrow\u001b[49m\u001b[43m(\u001b[49m\u001b[43mpa\u001b[49m\u001b[38;5;241;43m.\u001b[39;49m\u001b[43mstruct\u001b[49m\u001b[43m(\u001b[49m\u001b[43mobj\u001b[49m\u001b[43m)\u001b[49m\u001b[43m,\u001b[49m\u001b[43m \u001b[49m\u001b[43mvisitor\u001b[49m\u001b[43m)\u001b[49m)\n",
      "File \u001b[0;32m/opt/anaconda3/envs/llamaindex/lib/python3.12/functools.py:907\u001b[0m, in \u001b[0;36msingledispatch.<locals>.wrapper\u001b[0;34m(*args, **kw)\u001b[0m\n\u001b[1;32m    903\u001b[0m \u001b[38;5;28;01mif\u001b[39;00m \u001b[38;5;129;01mnot\u001b[39;00m args:\n\u001b[1;32m    904\u001b[0m     \u001b[38;5;28;01mraise\u001b[39;00m \u001b[38;5;167;01mTypeError\u001b[39;00m(\u001b[38;5;124mf\u001b[39m\u001b[38;5;124m'\u001b[39m\u001b[38;5;132;01m{\u001b[39;00mfuncname\u001b[38;5;132;01m}\u001b[39;00m\u001b[38;5;124m requires at least \u001b[39m\u001b[38;5;124m'\u001b[39m\n\u001b[1;32m    905\u001b[0m                     \u001b[38;5;124m'\u001b[39m\u001b[38;5;124m1 positional argument\u001b[39m\u001b[38;5;124m'\u001b[39m)\n\u001b[0;32m--> 907\u001b[0m \u001b[38;5;28;01mreturn\u001b[39;00m \u001b[43mdispatch\u001b[49m\u001b[43m(\u001b[49m\u001b[43margs\u001b[49m\u001b[43m[\u001b[49m\u001b[38;5;241;43m0\u001b[39;49m\u001b[43m]\u001b[49m\u001b[38;5;241;43m.\u001b[39;49m\u001b[38;5;18;43m__class__\u001b[39;49m\u001b[43m)\u001b[49m\u001b[43m(\u001b[49m\u001b[38;5;241;43m*\u001b[39;49m\u001b[43margs\u001b[49m\u001b[43m,\u001b[49m\u001b[43m \u001b[49m\u001b[38;5;241;43m*\u001b[39;49m\u001b[38;5;241;43m*\u001b[39;49m\u001b[43mkw\u001b[49m\u001b[43m)\u001b[49m\n",
      "File \u001b[0;32m~/Documents/Personal Learning Folder/Personal Projects/Lakehouse/.venv/lib/python3.12/site-packages/pyiceberg/io/pyarrow.py:986\u001b[0m, in \u001b[0;36m_\u001b[0;34m(obj, visitor)\u001b[0m\n\u001b[1;32m    984\u001b[0m \u001b[38;5;129m@visit_pyarrow\u001b[39m\u001b[38;5;241m.\u001b[39mregister(pa\u001b[38;5;241m.\u001b[39mStructType)\n\u001b[1;32m    985\u001b[0m \u001b[38;5;28;01mdef\u001b[39;00m\u001b[38;5;250m \u001b[39m\u001b[38;5;21m_\u001b[39m(obj: pa\u001b[38;5;241m.\u001b[39mStructType, visitor: PyArrowSchemaVisitor[T]) \u001b[38;5;241m-\u001b[39m\u001b[38;5;241m>\u001b[39m T:\n\u001b[0;32m--> 986\u001b[0m     results \u001b[38;5;241m=\u001b[39m [\u001b[43mvisit_pyarrow\u001b[49m\u001b[43m(\u001b[49m\u001b[43mfield\u001b[49m\u001b[43m,\u001b[49m\u001b[43m \u001b[49m\u001b[43mvisitor\u001b[49m\u001b[43m)\u001b[49m \u001b[38;5;28;01mfor\u001b[39;00m field \u001b[38;5;129;01min\u001b[39;00m obj]\n\u001b[1;32m    988\u001b[0m     \u001b[38;5;28;01mreturn\u001b[39;00m visitor\u001b[38;5;241m.\u001b[39mstruct(obj, results)\n",
      "File \u001b[0;32m/opt/anaconda3/envs/llamaindex/lib/python3.12/functools.py:907\u001b[0m, in \u001b[0;36msingledispatch.<locals>.wrapper\u001b[0;34m(*args, **kw)\u001b[0m\n\u001b[1;32m    903\u001b[0m \u001b[38;5;28;01mif\u001b[39;00m \u001b[38;5;129;01mnot\u001b[39;00m args:\n\u001b[1;32m    904\u001b[0m     \u001b[38;5;28;01mraise\u001b[39;00m \u001b[38;5;167;01mTypeError\u001b[39;00m(\u001b[38;5;124mf\u001b[39m\u001b[38;5;124m'\u001b[39m\u001b[38;5;132;01m{\u001b[39;00mfuncname\u001b[38;5;132;01m}\u001b[39;00m\u001b[38;5;124m requires at least \u001b[39m\u001b[38;5;124m'\u001b[39m\n\u001b[1;32m    905\u001b[0m                     \u001b[38;5;124m'\u001b[39m\u001b[38;5;124m1 positional argument\u001b[39m\u001b[38;5;124m'\u001b[39m)\n\u001b[0;32m--> 907\u001b[0m \u001b[38;5;28;01mreturn\u001b[39;00m \u001b[43mdispatch\u001b[49m\u001b[43m(\u001b[49m\u001b[43margs\u001b[49m\u001b[43m[\u001b[49m\u001b[38;5;241;43m0\u001b[39;49m\u001b[43m]\u001b[49m\u001b[38;5;241;43m.\u001b[39;49m\u001b[38;5;18;43m__class__\u001b[39;49m\u001b[43m)\u001b[49m\u001b[43m(\u001b[49m\u001b[38;5;241;43m*\u001b[39;49m\u001b[43margs\u001b[49m\u001b[43m,\u001b[49m\u001b[43m \u001b[49m\u001b[38;5;241;43m*\u001b[39;49m\u001b[38;5;241;43m*\u001b[39;49m\u001b[43mkw\u001b[49m\u001b[43m)\u001b[49m\n",
      "File \u001b[0;32m~/Documents/Personal Learning Folder/Personal Projects/Lakehouse/.venv/lib/python3.12/site-packages/pyiceberg/io/pyarrow.py:1032\u001b[0m, in \u001b[0;36m_\u001b[0;34m(obj, visitor)\u001b[0m\n\u001b[1;32m   1030\u001b[0m     result \u001b[38;5;241m=\u001b[39m visit_pyarrow(field_type, visitor)\n\u001b[1;32m   1031\u001b[0m \u001b[38;5;28;01mexcept\u001b[39;00m \u001b[38;5;167;01mTypeError\u001b[39;00m \u001b[38;5;28;01mas\u001b[39;00m e:\n\u001b[0;32m-> 1032\u001b[0m     \u001b[38;5;28;01mraise\u001b[39;00m UnsupportedPyArrowTypeException(obj, \u001b[38;5;124mf\u001b[39m\u001b[38;5;124m\"\u001b[39m\u001b[38;5;124mColumn \u001b[39m\u001b[38;5;124m'\u001b[39m\u001b[38;5;132;01m{\u001b[39;00mobj\u001b[38;5;241m.\u001b[39mname\u001b[38;5;132;01m}\u001b[39;00m\u001b[38;5;124m'\u001b[39m\u001b[38;5;124m has an unsupported type: \u001b[39m\u001b[38;5;132;01m{\u001b[39;00mfield_type\u001b[38;5;132;01m}\u001b[39;00m\u001b[38;5;124m\"\u001b[39m) \u001b[38;5;28;01mfrom\u001b[39;00m\u001b[38;5;250m \u001b[39m\u001b[38;5;21;01me\u001b[39;00m\n\u001b[1;32m   1033\u001b[0m visitor\u001b[38;5;241m.\u001b[39mafter_field(obj)\n\u001b[1;32m   1035\u001b[0m \u001b[38;5;28;01mreturn\u001b[39;00m visitor\u001b[38;5;241m.\u001b[39mfield(obj, result)\n",
      "\u001b[0;31mUnsupportedPyArrowTypeException\u001b[0m: Column 'embedding' has an unsupported type: null"
     ]
    }
   ],
   "source": [
    "tbl.append(datatable)"
   ]
  },
  {
   "cell_type": "markdown",
   "id": "df6bb093",
   "metadata": {},
   "source": [
    "## Load a table"
   ]
  },
  {
   "cell_type": "code",
   "execution_count": 10,
   "id": "8359c767",
   "metadata": {},
   "outputs": [],
   "source": [
    "table = catalog.load_table(\"docs_test.bids\")"
   ]
  },
  {
   "cell_type": "code",
   "execution_count": 11,
   "id": "aae7a029",
   "metadata": {},
   "outputs": [
    {
     "data": {
      "text/plain": [
       "bids(\n",
       "  1: id_: required string,\n",
       "  2: embedding: optional list<float>,\n",
       "  3: excluded_embed_metadata_keys: required list<string>,\n",
       "  4: excluded_llm_metadata_keys: required list<string>,\n",
       "  5: relationships: optional map<string, string>,\n",
       "  6: metadata_template: required string,\n",
       "  7: metadata_separator: required string,\n",
       "  8: text: required string,\n",
       "  9: minetype: required string,\n",
       "  10: start_char_idx: required int,\n",
       "  11: end_char_idx: required int,\n",
       "  12: metadata_seperator: required string,\n",
       "  13: text_template: required string,\n",
       "  14: class_name: required string\n",
       "),\n",
       "partition by: [],\n",
       "sort order: [],\n",
       "snapshot: null"
      ]
     },
     "execution_count": 11,
     "metadata": {},
     "output_type": "execute_result"
    }
   ],
   "source": [
    "table"
   ]
  },
  {
   "cell_type": "markdown",
   "id": "43ef4b06",
   "metadata": {},
   "source": [
    "Inspect schema"
   ]
  },
  {
   "cell_type": "code",
   "execution_count": null,
   "id": "d3189989",
   "metadata": {},
   "outputs": [
    {
     "data": {
      "text/plain": [
       "id_: large_string not null\n",
       "  -- field metadata --\n",
       "  PARQUET:field_id: '1'\n",
       "embedding: large_list<element: float not null>\n",
       "  child 0, element: float not null\n",
       "    -- field metadata --\n",
       "    PARQUET:field_id: '15'\n",
       "  -- field metadata --\n",
       "  PARQUET:field_id: '2'\n",
       "excluded_embed_metadata_keys: large_list<element: large_string not null> not null\n",
       "  child 0, element: large_string not null\n",
       "    -- field metadata --\n",
       "    PARQUET:field_id: '16'\n",
       "  -- field metadata --\n",
       "  PARQUET:field_id: '3'\n",
       "excluded_llm_metadata_keys: large_list<element: large_string not null> not null\n",
       "  child 0, element: large_string not null\n",
       "    -- field metadata --\n",
       "    PARQUET:field_id: '17'\n",
       "  -- field metadata --\n",
       "  PARQUET:field_id: '4'\n",
       "relationships: map<large_string, large_string>\n",
       "  child 0, entries: struct<key: large_string not null, value: large_string not null> not null\n",
       "      child 0, key: large_string not null\n",
       "      -- field metadata --\n",
       "      PARQUET:field_id: '18'\n",
       "      child 1, value: large_string not null\n",
       "      -- field metadata --\n",
       "      PARQUET:field_id: '19'\n",
       "  -- field metadata --\n",
       "  PARQUET:field_id: '5'\n",
       "metadata_template: large_string not null\n",
       "  -- field metadata --\n",
       "  PARQUET:field_id: '6'\n",
       "metadata_separator: large_string not null\n",
       "  -- field metadata --\n",
       "  PARQUET:field_id: '7'\n",
       "text: large_string not null\n",
       "  -- field metadata --\n",
       "  PARQUET:field_id: '8'\n",
       "minetype: large_string not null\n",
       "  -- field metadata --\n",
       "  PARQUET:field_id: '9'\n",
       "start_char_idx: int32 not null\n",
       "  -- field metadata --\n",
       "  PARQUET:field_id: '10'\n",
       "end_char_idx: int32 not null\n",
       "  -- field metadata --\n",
       "  PARQUET:field_id: '11'\n",
       "metadata_seperator: large_string not null\n",
       "  -- field metadata --\n",
       "  PARQUET:field_id: '12'\n",
       "text_template: large_string not null\n",
       "  -- field metadata --\n",
       "  PARQUET:field_id: '13'\n",
       "class_name: large_string not null\n",
       "  -- field metadata --\n",
       "  PARQUET:field_id: '14'"
      ]
     },
     "execution_count": 12,
     "metadata": {},
     "output_type": "execute_result"
    }
   ],
   "source": [
    "schema = table.schema().as_arrow()\n",
    "schema"
   ]
  },
  {
   "cell_type": "markdown",
   "id": "f34f49df",
   "metadata": {},
   "source": [
    "## Inspect snapshots"
   ]
  },
  {
   "cell_type": "code",
   "execution_count": 13,
   "id": "20a9dddf",
   "metadata": {},
   "outputs": [
    {
     "data": {
      "text/plain": [
       "pyarrow.Table\n",
       "committed_at: timestamp[ms] not null\n",
       "snapshot_id: int64 not null\n",
       "parent_id: int64\n",
       "operation: string\n",
       "manifest_list: string not null\n",
       "summary: map<string, string>\n",
       "  child 0, entries: struct<key: string not null, value: string> not null\n",
       "      child 0, key: string not null\n",
       "      child 1, value: string\n",
       "----\n",
       "committed_at: [[]]\n",
       "snapshot_id: [[]]\n",
       "parent_id: [[]]\n",
       "operation: [[]]\n",
       "manifest_list: [[]]\n",
       "summary: [[]]"
      ]
     },
     "execution_count": 13,
     "metadata": {},
     "output_type": "execute_result"
    }
   ],
   "source": [
    "table.inspect.snapshots()"
   ]
  },
  {
   "cell_type": "code",
   "execution_count": null,
   "id": "c0de3465",
   "metadata": {},
   "outputs": [],
   "source": []
  }
 ],
 "metadata": {
  "kernelspec": {
   "display_name": ".venv",
   "language": "python",
   "name": "python3"
  },
  "language_info": {
   "codemirror_mode": {
    "name": "ipython",
    "version": 3
   },
   "file_extension": ".py",
   "mimetype": "text/x-python",
   "name": "python",
   "nbconvert_exporter": "python",
   "pygments_lexer": "ipython3",
   "version": "3.12.5"
  }
 },
 "nbformat": 4,
 "nbformat_minor": 5
}
