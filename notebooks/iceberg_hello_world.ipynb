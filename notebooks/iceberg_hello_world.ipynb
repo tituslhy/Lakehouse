{
 "cells": [
  {
   "cell_type": "code",
   "execution_count": 1,
   "id": "90780fb9",
   "metadata": {},
   "outputs": [],
   "source": [
    "from pyiceberg.catalog import load_catalog\n",
    "\n",
    "warehouse_path = \"../tmp/warehouse\"\n",
    "catalog = load_catalog(\n",
    "    \"default\",\n",
    "    **{\n",
    "        'type': 'sql',\n",
    "        \"uri\": f\"sqlite:///{warehouse_path}/pyiceberg_catalog.db\",\n",
    "        \"warehouse\": f\"file://{warehouse_path}\",\n",
    "    },\n",
    ")"
   ]
  },
  {
   "cell_type": "markdown",
   "id": "3cd10cf6",
   "metadata": {},
   "source": [
    "Get data"
   ]
  },
  {
   "cell_type": "code",
   "execution_count": 2,
   "id": "96423762",
   "metadata": {},
   "outputs": [
    {
     "name": "stdout",
     "output_type": "stream",
     "text": [
      "  % Total    % Received % Xferd  Average Speed   Time    Time     Time  Current\n",
      "                                 Dload  Upload   Total   Spent    Left  Speed\n",
      "100 45.4M  100 45.4M    0     0  14.8M      0  0:00:03  0:00:03 --:--:-- 14.8M\n"
     ]
    }
   ],
   "source": [
    "!curl https://d37ci6vzurychx.cloudfront.net/trip-data/yellow_tripdata_2023-01.parquet -o ../tmp/yellow_tripdata_2023-01.parquet"
   ]
  },
  {
   "cell_type": "markdown",
   "id": "bb75199b",
   "metadata": {},
   "source": [
    "Load data"
   ]
  },
  {
   "cell_type": "code",
   "execution_count": 3,
   "id": "bfeaac66",
   "metadata": {},
   "outputs": [],
   "source": [
    "import pyarrow.parquet as pq\n",
    "\n",
    "df = pq.read_table(\"../tmp/yellow_tripdata_2023-01.parquet\")"
   ]
  },
  {
   "cell_type": "code",
   "execution_count": 4,
   "id": "36ef1610",
   "metadata": {},
   "outputs": [],
   "source": [
    "catalog.create_namespace(\"default\")"
   ]
  },
  {
   "cell_type": "markdown",
   "id": "09322553",
   "metadata": {},
   "source": [
    "Create a new iceberg table!"
   ]
  },
  {
   "cell_type": "code",
   "execution_count": 5,
   "id": "aa1a8cdb",
   "metadata": {},
   "outputs": [],
   "source": [
    "table = catalog.create_table(\n",
    "    \"default.taxi_dataset\",\n",
    "    schema=df.schema,\n",
    ")"
   ]
  },
  {
   "cell_type": "code",
   "execution_count": 6,
   "id": "cc67ef97",
   "metadata": {},
   "outputs": [
    {
     "data": {
      "text/plain": [
       "3066766"
      ]
     },
     "execution_count": 6,
     "metadata": {},
     "output_type": "execute_result"
    }
   ],
   "source": [
    "table.append(df)\n",
    "len(table.scan().to_arrow())"
   ]
  },
  {
   "cell_type": "markdown",
   "id": "53d0368d",
   "metadata": {},
   "source": [
    "3066766 rows have been written to the table.\n",
    "\n",
    "Now generate a tip-per-mile feature to train the model on:"
   ]
  },
  {
   "cell_type": "code",
   "execution_count": 7,
   "id": "8eabf8c3",
   "metadata": {},
   "outputs": [],
   "source": [
    "import pyarrow.compute as pc\n",
    "\n",
    "df = df.append_column(\"tip_per_mile\", pc.divide(df[\"tip_amount\"], df[\"trip_distance\"]))"
   ]
  },
  {
   "cell_type": "markdown",
   "id": "14184102",
   "metadata": {},
   "source": [
    "Evolve the schema of the table with the new column:"
   ]
  },
  {
   "cell_type": "code",
   "execution_count": 8,
   "id": "56bdb112",
   "metadata": {},
   "outputs": [],
   "source": [
    "with table.update_schema() as update_schema:\n",
    "    update_schema.union_by_name(df.schema)"
   ]
  },
  {
   "cell_type": "markdown",
   "id": "ceb5a6c0",
   "metadata": {},
   "source": [
    "And now we can write the new dataframe to the Iceberg table:"
   ]
  },
  {
   "cell_type": "code",
   "execution_count": 9,
   "id": "a1d8578a",
   "metadata": {},
   "outputs": [
    {
     "name": "stdout",
     "output_type": "stream",
     "text": [
      "pyarrow.Table\n",
      "VendorID: int64\n",
      "tpep_pickup_datetime: timestamp[us]\n",
      "tpep_dropoff_datetime: timestamp[us]\n",
      "passenger_count: double\n",
      "trip_distance: double\n",
      "RatecodeID: double\n",
      "store_and_fwd_flag: large_string\n",
      "PULocationID: int64\n",
      "DOLocationID: int64\n",
      "payment_type: int64\n",
      "fare_amount: double\n",
      "extra: double\n",
      "mta_tax: double\n",
      "tip_amount: double\n",
      "tolls_amount: double\n",
      "improvement_surcharge: double\n",
      "total_amount: double\n",
      "congestion_surcharge: double\n",
      "airport_fee: double\n",
      "tip_per_mile: double\n",
      "----\n",
      "VendorID: [[2,2,2,1,2,...,2,2,1,1,1],[1,2,2,2,2,...,1,1,1,2,2],...,[2,2,2,2,2,...,2,2,2,2,2],[2,2,2,2,2,...,2,2,2,2,2]]\n",
      "tpep_pickup_datetime: [[2023-01-01 00:32:10.000000,2023-01-01 00:55:08.000000,2023-01-01 00:25:04.000000,2023-01-01 00:03:48.000000,2023-01-01 00:10:29.000000,...,2023-01-02 21:16:11.000000,2023-01-02 21:56:02.000000,2023-01-02 21:04:31.000000,2023-01-02 21:13:09.000000,2023-01-02 21:45:30.000000],[2023-01-02 21:49:54.000000,2023-01-02 21:17:06.000000,2023-01-02 21:35:06.000000,2023-01-02 21:18:43.000000,2023-01-02 21:24:42.000000,...,2023-01-04 14:04:17.000000,2023-01-04 14:27:49.000000,2023-01-04 14:44:46.000000,2023-01-04 14:35:46.000000,2023-01-04 14:52:44.000000],...,[2023-01-30 20:07:47.000000,2023-01-30 20:28:57.000000,2023-01-30 19:59:53.000000,2023-01-30 20:21:42.000000,2023-01-30 20:09:59.000000,...,2023-01-10 08:10:07.000000,2023-01-10 08:51:52.000000,2023-01-10 08:13:34.000000,2023-01-10 08:29:03.000000,2023-01-10 08:49:00.000000],[2023-01-10 08:30:00.000000,2023-01-10 08:34:07.000000,2023-01-10 08:06:16.000000,2023-01-10 08:47:26.000000,2023-01-10 08:43:51.000000,...,2023-01-31 23:58:34.000000,2023-01-31 23:31:09.000000,2023-01-31 23:01:05.000000,2023-01-31 23:40:00.000000,2023-01-31 23:07:32.000000]]\n",
      "tpep_dropoff_datetime: [[2023-01-01 00:40:36.000000,2023-01-01 01:01:27.000000,2023-01-01 00:37:49.000000,2023-01-01 00:13:25.000000,2023-01-01 00:21:19.000000,...,2023-01-02 21:22:04.000000,2023-01-02 22:02:42.000000,2023-01-02 21:08:06.000000,2023-01-02 21:31:43.000000,2023-01-02 21:48:18.000000],[2023-01-02 22:23:48.000000,2023-01-02 21:41:59.000000,2023-01-02 22:00:39.000000,2023-01-02 21:24:23.000000,2023-01-02 21:51:41.000000,...,2023-01-04 14:07:51.000000,2023-01-04 14:40:33.000000,2023-01-04 15:13:24.000000,2023-01-04 14:41:59.000000,2023-01-04 15:18:58.000000],...,[2023-01-30 20:24:09.000000,2023-01-30 20:37:27.000000,2023-01-30 20:16:07.000000,2023-01-30 20:32:01.000000,2023-01-30 20:17:23.000000,...,2023-01-10 08:41:22.000000,2023-01-10 09:12:03.000000,2023-01-10 08:20:49.000000,2023-01-10 08:45:05.000000,2023-01-10 09:42:00.000000],[2023-01-10 08:38:00.000000,2023-01-10 08:41:48.000000,2023-01-10 08:24:17.000000,2023-01-10 09:08:22.000000,2023-01-10 09:18:55.000000,...,2023-02-01 00:12:33.000000,2023-01-31 23:50:36.000000,2023-01-31 23:25:36.000000,2023-01-31 23:53:00.000000,2023-01-31 23:21:56.000000]]\n",
      "passenger_count: [[1,1,1,0,1,...,1,1,1,2,1],[1,1,2,1,2,...,0,2,2,1,1],...,[1,1,2,1,1,...,null,null,null,null,null],[null,null,null,null,null,...,null,null,null,null,null]]\n",
      "trip_distance: [[0.97,1.1,2.51,1.9,1.43,...,1.59,0.74,0.9,4.3,0.5],[7.9,10.13,17.71,0.61,14.41,...,0.5,1.2,4.7,0.94,3.83],...,[1.95,1.53,3.25,2.23,1.16,...,5.84,2.66,1.22,1.7,20.95],[0.88,1.11,2.03,3.12,5.51,...,3.05,5.8,4.67,3.15,2.85]]\n",
      "RatecodeID: [[1,1,1,1,1,...,1,1,1,1,1],[1,1,2,1,1,...,1,1,1,1,1],...,[1,1,1,1,1,...,null,null,null,null,null],[null,null,null,null,null,...,null,null,null,null,null]]\n",
      "store_and_fwd_flag: [[\"N\",\"N\",\"N\",\"N\",\"N\",...,\"N\",\"N\",\"Y\",\"N\",\"N\"],[\"N\",\"N\",\"N\",\"N\",\"N\",...,\"N\",\"N\",\"N\",\"N\",\"N\"],...,[\"N\",\"N\",\"N\",\"N\",\"N\",...,null,null,null,null,null],[null,null,null,null,null,...,null,null,null,null,null]]\n",
      "PULocationID: [[161,43,48,138,107,...,233,79,68,237,234],[164,132,132,140,132,...,107,158,79,246,113],...,[263,239,237,50,237,...,37,113,246,50,141],[262,170,141,4,80,...,107,112,114,230,262]]\n",
      "DOLocationID: [[141,237,238,7,79,...,141,211,158,114,164],[173,225,164,237,129,...,234,79,236,234,52],...,[238,237,68,238,229,...,195,161,100,170,132],[236,161,43,161,72,...,48,75,239,79,143]]\n",
      "payment_type: [[2,1,1,1,1,...,1,1,1,1,1],[2,1,2,2,1,...,1,1,2,1,1],...,[1,1,1,1,1,...,0,0,0,0,0],[0,0,0,0,0,...,0,0,0,0,0]]\n",
      "...\n"
     ]
    }
   ],
   "source": [
    "table.overwrite(df)\n",
    "print(table.scan().to_arrow())"
   ]
  },
  {
   "cell_type": "markdown",
   "id": "d0b6931c",
   "metadata": {},
   "source": [
    "Let's see the number of rows with non-zero tips:"
   ]
  },
  {
   "cell_type": "code",
   "execution_count": 10,
   "id": "1f05307e",
   "metadata": {},
   "outputs": [
    {
     "data": {
      "text/plain": [
       "2371784"
      ]
     },
     "execution_count": 10,
     "metadata": {},
     "output_type": "execute_result"
    }
   ],
   "source": [
    "df = table.scan(row_filter=\"tip_per_mile > 0\").to_arrow()\n",
    "len(df)"
   ]
  },
  {
   "cell_type": "markdown",
   "id": "70eec801",
   "metadata": {},
   "source": [
    "## Explore Iceberg data and metadata files\n",
    "Since the catalog was configured to use the local filesystem, we can explore how Iceberg saved data and metadata files from the above operations."
   ]
  },
  {
   "cell_type": "code",
   "execution_count": 11,
   "id": "abdd26a5",
   "metadata": {},
   "outputs": [
    {
     "name": "stdout",
     "output_type": "stream",
     "text": [
      "../tmp/warehouse/\n",
      "../tmp/warehouse/pyiceberg_catalog.db\n",
      "../tmp/warehouse/default.db\n",
      "../tmp/warehouse/default.db/taxi_dataset\n",
      "../tmp/warehouse/default.db/taxi_dataset/data\n",
      "../tmp/warehouse/default.db/taxi_dataset/data/00000-0-e3c00619-b933-4872-ba52-9bb79f28fc53.parquet\n",
      "../tmp/warehouse/default.db/taxi_dataset/data/00000-0-acfe0b18-5b2a-4007-9dc7-3b82cb4437c3.parquet\n",
      "../tmp/warehouse/default.db/taxi_dataset/metadata\n",
      "../tmp/warehouse/default.db/taxi_dataset/metadata/00000-a6b92b85-3262-401c-a048-7b635f5c8874.metadata.json\n",
      "../tmp/warehouse/default.db/taxi_dataset/metadata/acfe0b18-5b2a-4007-9dc7-3b82cb4437c3-m0.avro\n",
      "../tmp/warehouse/default.db/taxi_dataset/metadata/00001-b5b2dbb1-8937-4c06-be5c-957bfc959dea.metadata.json\n",
      "../tmp/warehouse/default.db/taxi_dataset/metadata/snap-4853850003843113212-0-e3c00619-b933-4872-ba52-9bb79f28fc53.avro\n",
      "../tmp/warehouse/default.db/taxi_dataset/metadata/snap-8113952059566505016-0-acfe0b18-5b2a-4007-9dc7-3b82cb4437c3.avro\n",
      "../tmp/warehouse/default.db/taxi_dataset/metadata/e3c00619-b933-4872-ba52-9bb79f28fc53-m0.avro\n",
      "../tmp/warehouse/default.db/taxi_dataset/metadata/00003-b641f3dc-a727-4d3a-8d38-103d253c17af.metadata.json\n",
      "../tmp/warehouse/default.db/taxi_dataset/metadata/547407f8-55de-4952-b86f-c949c0931f86-m0.avro\n",
      "../tmp/warehouse/default.db/taxi_dataset/metadata/snap-994955068832499206-0-547407f8-55de-4952-b86f-c949c0931f86.avro\n",
      "../tmp/warehouse/default.db/taxi_dataset/metadata/00002-917812b9-5008-4079-84ca-0df724c54e50.metadata.json\n"
     ]
    }
   ],
   "source": [
    "!find ../tmp/warehouse/"
   ]
  }
 ],
 "metadata": {
  "kernelspec": {
   "display_name": ".venv",
   "language": "python",
   "name": "python3"
  },
  "language_info": {
   "codemirror_mode": {
    "name": "ipython",
    "version": 3
   },
   "file_extension": ".py",
   "mimetype": "text/x-python",
   "name": "python",
   "nbconvert_exporter": "python",
   "pygments_lexer": "ipython3",
   "version": "3.12.5"
  }
 },
 "nbformat": 4,
 "nbformat_minor": 5
}
